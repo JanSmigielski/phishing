{
 "cells": [
  {
   "cell_type": "code",
   "execution_count": 14,
   "id": "3afc4825",
   "metadata": {},
   "outputs": [],
   "source": [
    "import pandas as pd\n",
    "import numpy as np\n",
    "import pickle\n",
    "import matplotlib.pyplot as plt\n",
    "from sklearn.model_selection import train_test_split\n",
    "from sklearn.ensemble import RandomForestClassifier\n",
    "from sklearn.svm import SVC\n",
    "from sklearn import neighbors\n",
    "from sklearn import metrics\n",
    "from sklearn import tree\n",
    "from sklearn.tree import export_graphviz\n",
    "from sklearn.model_selection import KFold\n",
    "from sklearn.metrics import roc_curve, roc_auc_score\n",
    "\n",
    "import statsmodels.api as sm"
   ]
  },
  {
   "cell_type": "code",
   "execution_count": 15,
   "id": "381a5a56",
   "metadata": {},
   "outputs": [],
   "source": [
    "pd.set_option(\"display.max_rows\",50)\n",
    "df=pd.read_csv('Phishing_Legitimate_full.csv')\n",
    "\n",
    "#koniecznie usuwamy id bo przypisuje do tej kolumny predykcje, anstenie model ma metryki 1\n",
    "df.drop(['id'],axis=1,inplace=True)"
   ]
  },
  {
   "cell_type": "code",
   "execution_count": 16,
   "id": "3011f8ed",
   "metadata": {},
   "outputs": [],
   "source": [
    "#podział zmiennych w modelu na numeryczne i kateogryczne \n",
    "target = 'CLASS_LABEL'\n",
    "numFeatures = ['NumDots', 'SubdomainLevel', 'PathLevel', 'UrlLength', 'NumDash',\n",
    "       'NumDashInHostname', 'NumUnderscore','NumPercent', 'NumQueryComponents', 'NumAmpersand',\n",
    "       'NumNumericChars','HostnameLength', 'PathLength', 'QueryLength',\n",
    "       'NumSensitiveWords']\n",
    "catFeatures = ['AtSymbol','TildeSymbol','NumHash', 'NoHttps','RandomString', 'IpAddress','DomainInSubdomains','DomainInPaths','HttpsInHostname',\n",
    "              'DoubleSlashInPath','EmbeddedBrandName','PctExtHyperlinks','PctExtResourceUrls', 'ExtFavicon', 'InsecureForms',\n",
    "       'RelativeFormAction', 'ExtFormAction', 'AbnormalFormAction',\n",
    "       'PctNullSelfRedirectHyperlinks', 'FrequentDomainNameMismatch',\n",
    "       'FakeLinkInStatusBar', 'RightClickDisabled', 'PopUpWindow',\n",
    "       'SubmitInfoToEmail', 'IframeOrFrame', 'MissingTitle',\n",
    "       'ImagesOnlyInForm','ExtMetaScriptLinkRT','UrlLengthRT','SubdomainLevelRT',\n",
    "       'PctExtResourceUrlsRT', 'AbnormalExtFormActionR',\n",
    "       'PctExtNullSelfRedirectHyperlinksRT']"
   ]
  },
  {
   "cell_type": "code",
   "execution_count": 17,
   "id": "e3e5daf6",
   "metadata": {},
   "outputs": [],
   "source": [
    "#one hot encoding (na wszelki wypadek)\n",
    "dummLev = pd.get_dummies(df[catFeatures], drop_first=True)\n",
    "df = pd.concat([df[numFeatures], dummLev, df[[target]]], axis=1)"
   ]
  },
  {
   "cell_type": "code",
   "execution_count": 18,
   "id": "4e14574f",
   "metadata": {},
   "outputs": [],
   "source": [
    "#standaryzacja zmiennych numerycznych\n",
    "df[numFeatures] = df[numFeatures].apply(lambda x: (x-x.mean())/x.std())"
   ]
  },
  {
   "cell_type": "code",
   "execution_count": 19,
   "id": "cf96cd82",
   "metadata": {},
   "outputs": [
    {
     "name": "stdout",
     "output_type": "stream",
     "text": [
      "['NumDots', 'SubdomainLevel', 'PathLevel', 'UrlLength', 'NumDash', 'NumDashInHostname', 'NumUnderscore', 'NumPercent', 'NumQueryComponents', 'NumAmpersand', 'NumNumericChars', 'HostnameLength', 'PathLength', 'QueryLength', 'NumSensitiveWords', 'AtSymbol', 'TildeSymbol', 'NumHash', 'NoHttps', 'RandomString', 'IpAddress', 'DomainInSubdomains', 'DomainInPaths', 'HttpsInHostname', 'DoubleSlashInPath', 'EmbeddedBrandName', 'PctExtHyperlinks', 'PctExtResourceUrls', 'ExtFavicon', 'InsecureForms', 'RelativeFormAction', 'ExtFormAction', 'AbnormalFormAction', 'PctNullSelfRedirectHyperlinks', 'FrequentDomainNameMismatch', 'FakeLinkInStatusBar', 'RightClickDisabled', 'PopUpWindow', 'SubmitInfoToEmail', 'IframeOrFrame', 'MissingTitle', 'ImagesOnlyInForm', 'ExtMetaScriptLinkRT', 'UrlLengthRT', 'SubdomainLevelRT', 'PctExtResourceUrlsRT', 'AbnormalExtFormActionR', 'PctExtNullSelfRedirectHyperlinksRT']\n"
     ]
    }
   ],
   "source": [
    "features = df.columns.tolist()\n",
    "features.remove(target)\n",
    "print(features)"
   ]
  },
  {
   "cell_type": "code",
   "execution_count": 20,
   "id": "c9341171",
   "metadata": {},
   "outputs": [],
   "source": [
    "#wrapper walidacji krzyżowej dla algorytmu kNN\n",
    "def CVTestKNN(features=features, nFolds = 5, randomState=2020, debug=False, *args, **kwargs):\n",
    "    kf = KFold(n_splits=nFolds, shuffle=True, random_state=randomState)\n",
    "\n",
    "    # Listy z wynikami\n",
    "    testResults = []\n",
    "    trainResults = []\n",
    "    predictions = []\n",
    "    indices = []\n",
    "    \n",
    "    # Pętla walidująca model na kolejnych foldach\n",
    "    for train, test in kf.split(df.index.values):\n",
    "        # Przygotowanie estymatora\n",
    "        clf = neighbors.KNeighborsClassifier(*args, **kwargs)\n",
    "        if debug:\n",
    "            print(clf)\n",
    "        # Trenowanie modelu\n",
    "        clf.fit(df.iloc[train][features], df.iloc[train][target])\n",
    "\n",
    "        # Przygotowanie prognoz dla zbioru treningowego i testowego\n",
    "        # UWAGA Sklearn zwracał będzie dwie kolumny prawdopodobieństw dla obydwu klas\n",
    "        predsTrain = clf.predict_proba(df.iloc[train][features])[:,1]\n",
    "        preds = clf.predict_proba(df.iloc[test][features])[:,1]\n",
    "        \n",
    "        # Zachowajmy informacje o predykcjach dla tego foldu\n",
    "        predictions.append(preds.tolist().copy())\n",
    "        \n",
    "        # Razem z indeksami w oryginalnym data frame\n",
    "        indices.append(df.iloc[test].index.tolist().copy())\n",
    "        \n",
    "        # Policzenie ROC-AUC dla foldów\n",
    "        trainScore = roc_auc_score((df[target].iloc[train]==1), predsTrain)\n",
    "        testScore = roc_auc_score((df[target].iloc[test]==1), preds)\n",
    "        \n",
    "        # Zapisanie wyników dla foldów\n",
    "        trainResults.append(trainScore)\n",
    "        testResults.append(testScore)\n",
    "        \n",
    "        # Informowanie o każdym foldzie razem z wynikami treningowymi możemy opcjonalnie wyświetlać w trakcie\n",
    "        if debug:\n",
    "            print(\"Train AUC:\", trainScore,\n",
    "                  \"Valid AUC:\", testScore)\n",
    "        \n",
    "    return trainResults, testResults, predictions, indices"
   ]
  },
  {
   "cell_type": "code",
   "execution_count": 21,
   "id": "79f8efb0",
   "metadata": {},
   "outputs": [
    {
     "name": "stdout",
     "output_type": "stream",
     "text": [
      "1 1.0 0.9507553213742799\n",
      "3 0.9978007682435646 0.9767826602718259\n",
      "5 0.9961163902205197 0.9815067599468292\n",
      "10 0.9930096507097075 0.9847403423108823\n",
      "15 0.9906246068209625 0.9847133457371748\n",
      "30 0.9862995198556211 0.9826357403866455\n",
      "50 0.9822578751844459 0.9797167281048587\n",
      "100 0.9763079150456063 0.9747941738762028\n",
      "150 0.9720846753391064 0.9710666221393085\n",
      "200 0.9692732734828009 0.9684093972462877\n"
     ]
    }
   ],
   "source": [
    "#szukanie optymalnej ilości sąsiadów (n_neighbors)\n",
    "for k in [1, 3, 5, 10, 15, 30, 50, 100, 150, 200]:\n",
    "    trainResults, testResults, predictions, indices = CVTestKNN(features=features, n_neighbors=k, n_jobs=-1, p=2)\n",
    "    print(k, np.mean(trainResults), np.mean(testResults))\n",
    "#dla 10 najlepszy"
   ]
  },
  {
   "cell_type": "code",
   "execution_count": 22,
   "id": "34a9b7ee",
   "metadata": {},
   "outputs": [
    {
     "name": "stdout",
     "output_type": "stream",
     "text": [
      "1 0.9507553213742799\n",
      "2 0.9710560143525946\n",
      "4 0.9802142065562224\n",
      "6 0.9834660308438096\n",
      "8 0.9846741790028153\n",
      "10 0.9847403423108823\n",
      "12 0.9849371160346125\n",
      "14 0.9848923317512585\n",
      "15 0.9847133457371748\n"
     ]
    }
   ],
   "source": [
    "# n_neighbors okolice 10 dla euclidean distance (p=2)\n",
    "for k in [1,2,4,6,8,10,12,14,15]:\n",
    "    trainResults, testResults, predictions, indices = CVTestKNN(features=features ,n_neighbors=k, n_jobs=-1, p=2)\n",
    "    print(k, np.mean(testResults))"
   ]
  },
  {
   "cell_type": "code",
   "execution_count": 23,
   "id": "e62c131e",
   "metadata": {},
   "outputs": [
    {
     "name": "stdout",
     "output_type": "stream",
     "text": [
      "1 0.9560908286748873\n",
      "2 0.9753835559422892\n",
      "4 0.9835587166867036\n",
      "6 0.986617659930397\n",
      "8 0.9878820166376391\n",
      "10 0.9886602297442071\n",
      "12 0.9888285212858289\n",
      "14 0.9891237795279576\n",
      "15 0.9890448789084327\n"
     ]
    }
   ],
   "source": [
    "#dla manhattan distance (okolice 10)\n",
    "for k in [1,2,4,6,8,10,12,14,15]:\n",
    "    trainResults, testResults, predictions, indices = CVTestKNN(features=features, n_neighbors=k, n_jobs=-1, p=1)\n",
    "    print(k, np.mean(testResults))\n",
    "# manhattan n_neighbors = 14 jest najlepszym modelem z użyciem algorytmu kNN"
   ]
  },
  {
   "cell_type": "code",
   "execution_count": 27,
   "id": "881c5dcd",
   "metadata": {},
   "outputs": [
    {
     "name": "stdout",
     "output_type": "stream",
     "text": [
      "NumDots 0.49883536814383983\n",
      "SubdomainLevel 0.49889374120127006\n",
      "PathLevel 0.5111136678365894\n",
      "UrlLength 0.5644027220984836\n",
      "NumDash 0.6128685610304062\n",
      "NumDashInHostname 0.4982286623583592\n",
      "NumUnderscore 0.5065626886318989\n",
      "NumPercent 0.507676056895497\n",
      "NumQueryComponents 0.5081126537741862\n",
      "NumAmpersand 0.5055432766892008\n",
      "NumNumericChars 0.4863021519105957\n",
      "HostnameLength 0.490400360173596\n",
      "PathLength 0.5707377429524497\n",
      "QueryLength 0.5948587569787392\n",
      "NumSensitiveWords 0.4996910401647786\n",
      "AtSymbol 0.5003048660496686\n",
      "TildeSymbol 0.5\n",
      "NumHash 0.5\n",
      "NoHttps 0.5\n",
      "RandomString 0.5\n",
      "IpAddress 0.5\n",
      "DomainInSubdomains 0.5\n",
      "DomainInPaths 0.5\n",
      "HttpsInHostname 0.5\n",
      "DoubleSlashInPath 0.4993103792104508\n",
      "EmbeddedBrandName 0.5\n",
      "PctExtHyperlinks 0.9329689572269741\n",
      "PctExtResourceUrls 0.8257325293130741\n",
      "ExtFavicon 0.5\n",
      "InsecureForms 0.5\n",
      "RelativeFormAction 0.5\n",
      "ExtFormAction 0.5\n",
      "AbnormalFormAction 0.5\n",
      "PctNullSelfRedirectHyperlinks 0.7391806570707388\n",
      "FrequentDomainNameMismatch 0.5\n",
      "FakeLinkInStatusBar 0.5\n",
      "RightClickDisabled 0.5\n",
      "PopUpWindow 0.5046856429516745\n",
      "SubmitInfoToEmail 0.5\n",
      "IframeOrFrame 0.5\n",
      "MissingTitle 0.5\n",
      "ImagesOnlyInForm 0.5\n",
      "ExtMetaScriptLinkRT 0.5\n",
      "UrlLengthRT 0.5\n",
      "SubdomainLevelRT 0.5\n",
      "PctExtResourceUrlsRT 0.5\n",
      "AbnormalExtFormActionR 0.5\n",
      "PctExtNullSelfRedirectHyperlinksRT 0.5\n"
     ]
    }
   ],
   "source": [
    "#sprawdzamy ważność dla poszczególnych zmiennych\n",
    "results = []\n",
    "for feature in features:\n",
    "    trainResults, testResults, predictions, indices = CVTestKNN(features=[feature],n_neighbors=14, n_jobs=-1, p=1)\n",
    "    print(feature, np.mean(testResults))\n",
    "    results.append((feature, np.mean(testResults)))"
   ]
  },
  {
   "cell_type": "code",
   "execution_count": 28,
   "id": "f5d12da6",
   "metadata": {},
   "outputs": [
    {
     "data": {
      "text/plain": [
       "[('PctExtHyperlinks', 0.9329689572269741),\n",
       " ('PctExtResourceUrls', 0.8257325293130741),\n",
       " ('PctNullSelfRedirectHyperlinks', 0.7391806570707388),\n",
       " ('NumDash', 0.6128685610304062),\n",
       " ('QueryLength', 0.5948587569787392),\n",
       " ('PathLength', 0.5707377429524497),\n",
       " ('UrlLength', 0.5644027220984836),\n",
       " ('PathLevel', 0.5111136678365894),\n",
       " ('NumQueryComponents', 0.5081126537741862),\n",
       " ('NumPercent', 0.507676056895497),\n",
       " ('NumUnderscore', 0.5065626886318989),\n",
       " ('NumAmpersand', 0.5055432766892008),\n",
       " ('PopUpWindow', 0.5046856429516745),\n",
       " ('AtSymbol', 0.5003048660496686),\n",
       " ('TildeSymbol', 0.5),\n",
       " ('NumHash', 0.5),\n",
       " ('NoHttps', 0.5),\n",
       " ('RandomString', 0.5),\n",
       " ('IpAddress', 0.5),\n",
       " ('DomainInSubdomains', 0.5),\n",
       " ('DomainInPaths', 0.5),\n",
       " ('HttpsInHostname', 0.5),\n",
       " ('EmbeddedBrandName', 0.5),\n",
       " ('ExtFavicon', 0.5),\n",
       " ('InsecureForms', 0.5),\n",
       " ('RelativeFormAction', 0.5),\n",
       " ('ExtFormAction', 0.5),\n",
       " ('AbnormalFormAction', 0.5),\n",
       " ('FrequentDomainNameMismatch', 0.5),\n",
       " ('FakeLinkInStatusBar', 0.5),\n",
       " ('RightClickDisabled', 0.5),\n",
       " ('SubmitInfoToEmail', 0.5),\n",
       " ('IframeOrFrame', 0.5),\n",
       " ('MissingTitle', 0.5),\n",
       " ('ImagesOnlyInForm', 0.5),\n",
       " ('ExtMetaScriptLinkRT', 0.5),\n",
       " ('UrlLengthRT', 0.5),\n",
       " ('SubdomainLevelRT', 0.5),\n",
       " ('PctExtResourceUrlsRT', 0.5),\n",
       " ('AbnormalExtFormActionR', 0.5),\n",
       " ('PctExtNullSelfRedirectHyperlinksRT', 0.5),\n",
       " ('NumSensitiveWords', 0.4996910401647786),\n",
       " ('DoubleSlashInPath', 0.4993103792104508),\n",
       " ('SubdomainLevel', 0.49889374120127006),\n",
       " ('NumDots', 0.49883536814383983),\n",
       " ('NumDashInHostname', 0.4982286623583592),\n",
       " ('HostnameLength', 0.490400360173596),\n",
       " ('NumNumericChars', 0.4863021519105957)]"
      ]
     },
     "execution_count": 28,
     "metadata": {},
     "output_type": "execute_result"
    }
   ],
   "source": [
    "#sortujemy aby uzyskać najistotniejsze zmienne\n",
    "results = sorted(results, key=lambda x: x[1], reverse=True)\n",
    "results"
   ]
  },
  {
   "cell_type": "code",
   "execution_count": 34,
   "id": "637c1cfb",
   "metadata": {},
   "outputs": [
    {
     "name": "stdout",
     "output_type": "stream",
     "text": [
      "['PctExtHyperlinks', 'PctExtResourceUrls', 'PctNullSelfRedirectHyperlinks', 'NumDash', 'QueryLength', 'PathLength', 'UrlLength', 'PathLevel', 'NumQueryComponents', 'NumPercent', 'NumUnderscore', 'NumAmpersand', 'PopUpWindow', 'AtSymbol', 'TildeSymbol', 'NumHash', 'NoHttps', 'RandomString', 'IpAddress', 'DomainInSubdomains', 'DomainInPaths', 'HttpsInHostname', 'EmbeddedBrandName', 'ExtFavicon', 'InsecureForms', 'RelativeFormAction', 'ExtFormAction', 'AbnormalFormAction', 'FrequentDomainNameMismatch', 'FakeLinkInStatusBar', 'RightClickDisabled', 'SubmitInfoToEmail', 'IframeOrFrame', 'MissingTitle', 'ImagesOnlyInForm', 'ExtMetaScriptLinkRT', 'UrlLengthRT', 'SubdomainLevelRT', 'PctExtResourceUrlsRT', 'AbnormalExtFormActionR', 'PctExtNullSelfRedirectHyperlinksRT']\n"
     ]
    }
   ],
   "source": [
    "#usuwamy zmienne, których ważność jest mniejsza od 0.5\n",
    "featuresSet2 = [x for x,y in results if y >= 0.5]\n",
    "print(featuresSet2)"
   ]
  },
  {
   "cell_type": "code",
   "execution_count": 30,
   "id": "f7570a78",
   "metadata": {},
   "outputs": [
    {
     "name": "stdout",
     "output_type": "stream",
     "text": [
      "0.9833493767521986\n"
     ]
    }
   ],
   "source": [
    "trainResults, testResults, predictions, indices = CVTestKNN(features=featuresSet2,n_neighbors=14, n_jobs=-1, p=1)\n",
    "print(np.mean(testResults))\n",
    "#gorzej bo wcześniej 0,988"
   ]
  },
  {
   "cell_type": "code",
   "execution_count": 31,
   "id": "b285875f",
   "metadata": {},
   "outputs": [
    {
     "name": "stdout",
     "output_type": "stream",
     "text": [
      "0.9876242469645911\n"
     ]
    }
   ],
   "source": [
    "#usuwamy mniejszą część zmiennych niż poprzednio i patrzymy na wynik\n",
    "featuresSet3 = [x for x,y in results if y >= 0.495]\n",
    "trainResults, testResults, predictions, indices = CVTestKNN(features=featuresSet3,n_neighbors=14, n_jobs=-1, p=1)\n",
    "print(np.mean(testResults))\n",
    "#blisko ale nadal gorzej"
   ]
  },
  {
   "cell_type": "code",
   "execution_count": 32,
   "id": "ba4b2624",
   "metadata": {},
   "outputs": [
    {
     "name": "stdout",
     "output_type": "stream",
     "text": [
      "0.9871259343157984\n"
     ]
    }
   ],
   "source": [
    "#tym razem usuwamy jeszcze mniej zmiennych\n",
    "featuresSet4 = [x for x,y in results if y >= 0.49]\n",
    "trainResults, testResults, predictions, indices = CVTestKNN(features=featuresSet4,n_neighbors=14, n_jobs=-1, p=1)\n",
    "print(np.mean(testResults))\n",
    "#tez gorzej, nie usuwamy zmiennych"
   ]
  },
  {
   "cell_type": "code",
   "execution_count": 33,
   "id": "da532d46",
   "metadata": {},
   "outputs": [
    {
     "name": "stdout",
     "output_type": "stream",
     "text": [
      "NumDots 0.9888675684420086\n",
      "SubdomainLevel 0.988988769913813\n",
      "PathLevel 0.9887944308406178\n",
      "UrlLength 0.9887051474294429\n",
      "NumDash 0.9890289036162325\n",
      "NumDashInHostname 0.9889855827998071\n",
      "NumUnderscore 0.9890999359756577\n",
      "NumPercent 0.9890086908723464\n",
      "NumQueryComponents 0.9889448055928938\n",
      "NumAmpersand 0.9889104021117546\n",
      "NumNumericChars 0.9888757623369007\n",
      "HostnameLength 0.988310392138086\n",
      "PathLength 0.9890820883897238\n",
      "QueryLength 0.9887268094107806\n",
      "NumSensitiveWords 0.9891985773811205\n",
      "AtSymbol 0.9891249795502578\n",
      "TildeSymbol 0.9890849423303318\n",
      "NumHash 0.9891399801111784\n",
      "NoHttps 0.9891309784978363\n",
      "RandomString 0.9882057663904064\n",
      "IpAddress 0.9890968939827754\n",
      "DomainInSubdomains 0.9891170749344014\n",
      "DomainInPaths 0.9886459515246144\n",
      "HttpsInHostname 0.9891237795279576\n",
      "DoubleSlashInPath 0.989128079664761\n",
      "EmbeddedBrandName 0.9892607179906328\n",
      "PctExtHyperlinks 0.9892606768709914\n",
      "PctExtResourceUrls 0.9890132997636073\n",
      "ExtFavicon 0.9892906578829157\n",
      "InsecureForms 0.9892645984995042\n",
      "RelativeFormAction 0.9889961042957361\n",
      "ExtFormAction 0.988964972537157\n",
      "AbnormalFormAction 0.988848576892513\n",
      "PctNullSelfRedirectHyperlinks 0.9891473593828797\n",
      "FrequentDomainNameMismatch 0.9890875734149258\n",
      "FakeLinkInStatusBar 0.9891161758279413\n",
      "RightClickDisabled 0.9891011637117751\n",
      "PopUpWindow 0.9891238835983135\n",
      "SubmitInfoToEmail 0.989620225887986\n",
      "IframeOrFrame 0.9889465202498933\n",
      "MissingTitle 0.9891774984599422\n",
      "ImagesOnlyInForm 0.9892952747196186\n",
      "ExtMetaScriptLinkRT 0.9877798420208647\n",
      "UrlLengthRT 0.9884085600994442\n",
      "SubdomainLevelRT 0.9891280797540356\n",
      "PctExtResourceUrlsRT 0.9887292823638708\n",
      "AbnormalExtFormActionR 0.9884718140188795\n",
      "PctExtNullSelfRedirectHyperlinksRT 0.9887728868793072\n"
     ]
    }
   ],
   "source": [
    "#teraz dokonamy feature generation w postaci rozszerzania lub zawężania rozpiętości\n",
    "dfCopy = df.copy()\n",
    "results2 = []\n",
    "for feature in features:\n",
    "    df = dfCopy.copy()\n",
    "    df[feature]=df[feature]*2\n",
    "    trainResults, testResults, predictions, indices = CVTestKNN(features=features,n_neighbors=14, n_jobs=-1, p=1)\n",
    "    print(feature, np.mean(testResults))\n",
    "    results2.append((feature, np.mean(testResults)))"
   ]
  },
  {
   "cell_type": "code",
   "execution_count": 35,
   "id": "e492bede",
   "metadata": {},
   "outputs": [
    {
     "data": {
      "text/plain": [
       "[('SubmitInfoToEmail', 0.989620225887986),\n",
       " ('ImagesOnlyInForm', 0.9892952747196186),\n",
       " ('ExtFavicon', 0.9892906578829157),\n",
       " ('InsecureForms', 0.9892645984995042),\n",
       " ('EmbeddedBrandName', 0.9892607179906328),\n",
       " ('PctExtHyperlinks', 0.9892606768709914),\n",
       " ('NumSensitiveWords', 0.9891985773811205),\n",
       " ('MissingTitle', 0.9891774984599422),\n",
       " ('PctNullSelfRedirectHyperlinks', 0.9891473593828797),\n",
       " ('NumHash', 0.9891399801111784),\n",
       " ('NoHttps', 0.9891309784978363),\n",
       " ('SubdomainLevelRT', 0.9891280797540356),\n",
       " ('DoubleSlashInPath', 0.989128079664761),\n",
       " ('AtSymbol', 0.9891249795502578),\n",
       " ('PopUpWindow', 0.9891238835983135),\n",
       " ('HttpsInHostname', 0.9891237795279576),\n",
       " ('DomainInSubdomains', 0.9891170749344014),\n",
       " ('FakeLinkInStatusBar', 0.9891161758279413),\n",
       " ('RightClickDisabled', 0.9891011637117751),\n",
       " ('NumUnderscore', 0.9890999359756577),\n",
       " ('IpAddress', 0.9890968939827754),\n",
       " ('FrequentDomainNameMismatch', 0.9890875734149258),\n",
       " ('TildeSymbol', 0.9890849423303318),\n",
       " ('PathLength', 0.9890820883897238),\n",
       " ('NumDash', 0.9890289036162325),\n",
       " ('PctExtResourceUrls', 0.9890132997636073),\n",
       " ('NumPercent', 0.9890086908723464),\n",
       " ('RelativeFormAction', 0.9889961042957361),\n",
       " ('SubdomainLevel', 0.988988769913813),\n",
       " ('NumDashInHostname', 0.9889855827998071),\n",
       " ('ExtFormAction', 0.988964972537157),\n",
       " ('IframeOrFrame', 0.9889465202498933),\n",
       " ('NumQueryComponents', 0.9889448055928938),\n",
       " ('NumAmpersand', 0.9889104021117546),\n",
       " ('NumNumericChars', 0.9888757623369007),\n",
       " ('NumDots', 0.9888675684420086),\n",
       " ('AbnormalFormAction', 0.988848576892513),\n",
       " ('PathLevel', 0.9887944308406178),\n",
       " ('PctExtNullSelfRedirectHyperlinksRT', 0.9887728868793072),\n",
       " ('PctExtResourceUrlsRT', 0.9887292823638708),\n",
       " ('QueryLength', 0.9887268094107806),\n",
       " ('UrlLength', 0.9887051474294429),\n",
       " ('DomainInPaths', 0.9886459515246144),\n",
       " ('AbnormalExtFormActionR', 0.9884718140188795),\n",
       " ('UrlLengthRT', 0.9884085600994442),\n",
       " ('HostnameLength', 0.988310392138086),\n",
       " ('RandomString', 0.9882057663904064),\n",
       " ('ExtMetaScriptLinkRT', 0.9877798420208647)]"
      ]
     },
     "execution_count": 35,
     "metadata": {},
     "output_type": "execute_result"
    }
   ],
   "source": [
    "#najistotniejsze zmienne\n",
    "results2 = sorted(results2, key=lambda x: x[1], reverse=True)\n",
    "results2"
   ]
  },
  {
   "cell_type": "code",
   "execution_count": 36,
   "id": "ad1d5c8c",
   "metadata": {},
   "outputs": [
    {
     "name": "stdout",
     "output_type": "stream",
     "text": [
      "1.5 0.9894262081967284\n",
      "2 0.989620225887986\n",
      "3 0.989723796256506\n",
      "4 0.9897839253629683\n",
      "5 0.9895835167777529\n"
     ]
    }
   ],
   "source": [
    "#zobaczymy zwiększenie rozpiętości najważniejszej zmiennej  \n",
    "for k in [1.5, 2, 3, 4, 5]:\n",
    "    df = dfCopy.copy()\n",
    "    df[\"SubmitInfoToEmail\"]=df[\"SubmitInfoToEmail\"]*k\n",
    "    trainResults, testResults, predictions, indices = CVTestKNN(features=features, n_neighbors=14, n_jobs=-1, p=1)\n",
    "    print(k, np.mean(testResults))\n",
    "# dla 3 najlepsze "
   ]
  },
  {
   "cell_type": "code",
   "execution_count": 38,
   "id": "db733534",
   "metadata": {},
   "outputs": [
    {
     "name": "stdout",
     "output_type": "stream",
     "text": [
      "1.5 0.9898105664942808\n",
      "2 0.989875797675371\n",
      "3 0.9898703752769897\n",
      "4 0.9898938139869145\n",
      "5 0.9898675925012468\n"
     ]
    }
   ],
   "source": [
    "# zwiększenie rozpiętości dla 2 najważniejszej zmiennej\n",
    "for k in [1.5, 2, 3, 4, 5]:\n",
    "    df = dfCopy.copy()\n",
    "    df[\"SubmitInfoToEmail\"]=df[\"SubmitInfoToEmail\"]*4\n",
    "    df[\"ImagesOnlyInForm\"]=df[\"ImagesOnlyInForm\"]*4\n",
    "    trainResults, testResults, predictions, indices = CVTestKNN(features=features, n_neighbors=14, n_jobs=-1, p=1)\n",
    "    print(k, np.mean(testResults))\n",
    "# ImagesOnlyInForm = 4"
   ]
  },
  {
   "cell_type": "code",
   "execution_count": 39,
   "id": "24376208",
   "metadata": {},
   "outputs": [
    {
     "name": "stdout",
     "output_type": "stream",
     "text": [
      "1.5 0.989904124476287\n",
      "2 0.9899438701372043\n",
      "3 0.989801243849471\n",
      "4 0.9898308900972822\n",
      "5 0.9897812964941466\n"
     ]
    }
   ],
   "source": [
    "# zwiększenie rozpiętości dla kolejnej zmiennej\n",
    "for k in [1.5, 2, 3, 4, 5]:\n",
    "    df = dfCopy.copy()\n",
    "    # k krotnie zwiększamy zmienną\n",
    "    df[\"SubmitInfoToEmail\"]=df[\"SubmitInfoToEmail\"]*4\n",
    "    df[\"ExtFavicon\"]=df[\"ExtFavicon\"]*k\n",
    "    df[\"ImagesOnlyInForm\"]=df[\"ImagesOnlyInForm\"]*4\n",
    "    trainResults, testResults, predictions, indices = CVTestKNN(features=features, n_neighbors=14, n_jobs=-1, p=1)\n",
    "    print(k, np.mean(testResults))\n",
    "#ExtFavicon= 2 i przy tym bym został"
   ]
  },
  {
   "cell_type": "code",
   "execution_count": 41,
   "id": "b8caffc2",
   "metadata": {},
   "outputs": [
    {
     "name": "stdout",
     "output_type": "stream",
     "text": [
      "0.1 0.9881517971330087\n",
      "0.25 0.9888241788554314\n",
      "0.4 0.989497036939258\n",
      "0.5 0.9897387928068937\n",
      "0.65 0.9899425402843212\n",
      "0.8 0.9901138126677427\n"
     ]
    }
   ],
   "source": [
    "#zawężenie rozpiętości dla najmniej istotnej zmiennej\n",
    "for k in [0.1, 0.25, 0.4, 0.5, 0.65,  0.8]:\n",
    "    df = dfCopy.copy()\n",
    "    \n",
    "    df[\"SubmitInfoToEmail\"]=df[\"SubmitInfoToEmail\"]*4\n",
    "    df[\"ExtFavicon\"]=df[\"ExtFavicon\"]*k\n",
    "    df[\"ImagesOnlyInForm\"]=df[\"ImagesOnlyInForm\"]*4\n",
    "    df[\"ExtMetaScriptLinkRT\"]=df[\"ExtMetaScriptLinkRT\"]*k\n",
    "    trainResults, testResults, predictions, indices = CVTestKNN(features=features,n_neighbors=14, n_jobs=-1, p=1)\n",
    "    print(k, np.mean(testResults))"
   ]
  },
  {
   "cell_type": "code",
   "execution_count": 42,
   "id": "a2a0c2d5",
   "metadata": {},
   "outputs": [
    {
     "name": "stdout",
     "output_type": "stream",
     "text": [
      "0.9906375958030411\n"
     ]
    }
   ],
   "source": [
    "df = dfCopy.copy()\n",
    "df[\"SubmitInfoToEmail\"]=df[\"SubmitInfoToEmail\"]*4\n",
    "df[\"InsecureForms\"]=df[\"InsecureForms\"]*2\n",
    "df[\"ImagesOnlyInForm\"]=df[\"ImagesOnlyInForm\"]*4\n",
    "df[\"ExtMetaScriptLinkRT\"]=df[\"ExtMetaScriptLinkRT\"]*0.8\n",
    "trainResults, testResults, predictions, indices = CVTestKNN(features=features,n_neighbors=14, n_jobs=-1, p=1)\n",
    "print(np.mean(testResults))\n",
    "\n",
    "modelkNN = {\n",
    "    \"name\":\"KNN\",\n",
    "    \"description\":\"Pierwszy dopracowany model KNN, 14 sąsiadów z wszystkimi zmiennymi\",\n",
    "    \"specification\":'n_neighbors=30, n_jobs=-1, p=1, features=features',\n",
    "    \"trainResults\":trainResults.copy(),\n",
    "    \"testResults\":testResults.copy(),\n",
    "    \"predictions\":predictions.copy(),\n",
    "    \"indices\":indices.copy(),\n",
    "}\n",
    "#trenujemy i zapisujemy najlepszy otrzymany model kNN"
   ]
  },
  {
   "cell_type": "code",
   "execution_count": 43,
   "id": "b34dbeb0",
   "metadata": {},
   "outputs": [
    {
     "data": {
      "image/png": "[encoded data removed]",
      "text/plain": [
       "<Figure size 1000x900 with 1 Axes>"
      ]
     },
     "metadata": {},
     "output_type": "display_data"
    }
   ],
   "source": [
    "def plotROCs(results):\n",
    "    ''' Funkcja, do rysowania szeregu wyników krzywych ROC dla poszczególnych eksperymentów\n",
    "    results - lista wyników jako 3 elementowe tuple (true, pred, label)\n",
    "    '''\n",
    "\n",
    "    # Ustalanie wielkości rysunku\n",
    "    fig, ax = plt.subplots(figsize=(10,9))\n",
    "\n",
    "    for true, pred, label in results:\n",
    "        # Obliczenie punktów potrzebnych do narysowani akrzywej ROC\n",
    "        # funkcja roc_curve zwarca trzy serie danych, fpr, tpr oraz poziomy progów odcięcia\n",
    "        fpr, tpr, thresholds = roc_curve(true, pred)\n",
    "        # Obliczamy pole powierzchni pod krzywą\n",
    "        rocScore = roc_auc_score(true, pred)\n",
    "        rocScore = round(rocScore, 3)\n",
    "\n",
    "        # Grubość krzywej\n",
    "        lw = 2\n",
    "\n",
    "        # Rysujemy krzywą ROC\n",
    "        ax.plot(fpr, tpr, lw=lw, label=f'{label}: {rocScore}')\n",
    "    # Rysujemy krzywą 45 stopni jako punkt odniesienia\n",
    "    ax.plot([0, 1], [0, 1], color='navy', lw=lw, linestyle='--')\n",
    "    # Dodajemy lekkie marginesy do zakresu aby krzywa nie pokrywała się z osiami\n",
    "    ax.set_xlim([-0.01, 1.0])\n",
    "    ax.set_ylim([0.0, 1.01])\n",
    "    ax.set_xlabel('False Positive Rate')\n",
    "    ax.set_ylabel('True Positive Rate')\n",
    "    ax.set_title(f'Receiver operating characteristic - {rocScore}')\n",
    "    ax.legend(loc=\"lower right\")\n",
    "    plt.show()\n",
    "\n",
    "res2plot = []\n",
    "true = (df[target]==1).sort_index()\n",
    "pred = pd.Series(sum(modelkNN[\"predictions\"], []), index=sum(modelkNN[\"indices\"], [])).sort_index()\n",
    "res2plot.append((true, pred, modelkNN[\"name\"]))\n",
    "\n",
    "plotROCs(res2plot)"
   ]
  },
  {
   "cell_type": "code",
   "execution_count": null,
   "id": "02af0727",
   "metadata": {},
   "outputs": [],
   "source": []
  }
 ],
 "metadata": {
  "kernelspec": {
   "display_name": "Python 3 (ipykernel)",
   "language": "python",
   "name": "python3"
  },
  "language_info": {
   "codemirror_mode": {
    "name": "ipython",
    "version": 3
   },
   "file_extension": ".py",
   "mimetype": "text/x-python",
   "name": "python",
   "nbconvert_exporter": "python",
   "pygments_lexer": "ipython3",
   "version": "3.10.9"
  }
 },
 "nbformat": 4,
 "nbformat_minor": 5
}
