{
 "cells": [
  {
   "cell_type": "code",
   "execution_count": 1,
   "id": "92328bee",
   "metadata": {},
   "outputs": [],
   "source": [
    "import pandas as pd\n",
    "import numpy as np\n",
    "import pickle\n",
    "import matplotlib.pyplot as plt\n",
    "from sklearn.model_selection import train_test_split\n",
    "from sklearn.ensemble import RandomForestClassifier\n",
    "from sklearn.svm import SVC\n",
    "\n",
    "from sklearn import metrics\n",
    "from sklearn import tree\n",
    "from sklearn.tree import export_graphviz\n",
    "from sklearn.model_selection import KFold\n",
    "from sklearn.metrics import roc_curve, roc_auc_score\n",
    "\n",
    "import statsmodels.api as sm"
   ]
  },
  {
   "cell_type": "code",
   "execution_count": 2,
   "id": "2cb19bba",
   "metadata": {},
   "outputs": [],
   "source": [
    "pd.set_option(\"display.max_rows\",50)\n",
    "df=pd.read_csv('Phishing_Legitimate_full.csv')\n",
    "\n",
    "#koniecznie usuwamy id bo przypisuje do tej kolumny predykcje, anstenie model ma metryki 1\n",
    "df.drop(['id'],axis=1,inplace=True)"
   ]
  },
  {
   "cell_type": "code",
   "execution_count": 3,
   "id": "fb16727e",
   "metadata": {},
   "outputs": [],
   "source": [
    "#podział zmiennych w modelu na numeryczne i kateogryczne \n",
    "target = 'CLASS_LABEL'\n",
    "numFeatures = ['NumDots', 'SubdomainLevel', 'PathLevel', 'UrlLength', 'NumDash',\n",
    "       'NumDashInHostname', 'NumUnderscore','NumPercent', 'NumQueryComponents', 'NumAmpersand',\n",
    "       'NumNumericChars','HostnameLength', 'PathLength', 'QueryLength',\n",
    "       'NumSensitiveWords']\n",
    "catFeatures = ['AtSymbol','TildeSymbol','NumHash', 'NoHttps','RandomString', 'IpAddress','DomainInSubdomains','DomainInPaths','HttpsInHostname',\n",
    "              'DoubleSlashInPath','EmbeddedBrandName','PctExtHyperlinks','PctExtResourceUrls', 'ExtFavicon', 'InsecureForms',\n",
    "       'RelativeFormAction', 'ExtFormAction', 'AbnormalFormAction',\n",
    "       'PctNullSelfRedirectHyperlinks', 'FrequentDomainNameMismatch',\n",
    "       'FakeLinkInStatusBar', 'RightClickDisabled', 'PopUpWindow',\n",
    "       'SubmitInfoToEmail', 'IframeOrFrame', 'MissingTitle',\n",
    "       'ImagesOnlyInForm','ExtMetaScriptLinkRT','UrlLengthRT','SubdomainLevelRT',\n",
    "       'PctExtResourceUrlsRT', 'AbnormalExtFormActionR',\n",
    "       'PctExtNullSelfRedirectHyperlinksRT']"
   ]
  },
  {
   "cell_type": "code",
   "execution_count": 4,
   "id": "5b3082bc",
   "metadata": {},
   "outputs": [
    {
     "name": "stdout",
     "output_type": "stream",
     "text": [
      "['NumDots', 'SubdomainLevel', 'PathLevel', 'UrlLength', 'NumDash', 'NumDashInHostname', 'AtSymbol', 'TildeSymbol', 'NumUnderscore', 'NumPercent', 'NumQueryComponents', 'NumAmpersand', 'NumHash', 'NumNumericChars', 'NoHttps', 'RandomString', 'IpAddress', 'DomainInSubdomains', 'DomainInPaths', 'HttpsInHostname', 'HostnameLength', 'PathLength', 'QueryLength', 'DoubleSlashInPath', 'NumSensitiveWords', 'EmbeddedBrandName', 'PctExtHyperlinks', 'PctExtResourceUrls', 'ExtFavicon', 'InsecureForms', 'RelativeFormAction', 'ExtFormAction', 'AbnormalFormAction', 'PctNullSelfRedirectHyperlinks', 'FrequentDomainNameMismatch', 'FakeLinkInStatusBar', 'RightClickDisabled', 'PopUpWindow', 'SubmitInfoToEmail', 'IframeOrFrame', 'MissingTitle', 'ImagesOnlyInForm', 'SubdomainLevelRT', 'UrlLengthRT', 'PctExtResourceUrlsRT', 'AbnormalExtFormActionR', 'ExtMetaScriptLinkRT', 'PctExtNullSelfRedirectHyperlinksRT']\n"
     ]
    }
   ],
   "source": [
    "features = df.columns.tolist()\n",
    "features.remove(target)\n",
    "print(features)"
   ]
  },
  {
   "cell_type": "code",
   "execution_count": 5,
   "id": "34e14e07",
   "metadata": {},
   "outputs": [],
   "source": [
    "#wrapper walidacji krzyżowej dla algorytmu RandomForest\n",
    "def CVTestRFClass(nFolds = 5, randomState=2020, debug=False, features=features, *args, **kwargs):\n",
    "    kf = KFold(n_splits=nFolds, shuffle=True, random_state=randomState)\n",
    "    # listy do przechowywania wyników:\n",
    "    testResults = []\n",
    "    trainResults = []\n",
    "    predictions = []\n",
    "    indices = []\n",
    "\n",
    "    # Pętla walidująca model na kolejnych foldach\n",
    "    for train, test in kf.split(df.index.values):\n",
    "        # Przygotowanie estymatora\n",
    "        clf = RandomForestClassifier(*args, **kwargs, random_state=randomState, n_jobs=-1)\n",
    "        if debug:\n",
    "            print(clf)\n",
    "        # Trenowanie modelu\n",
    "        clf.fit(df.iloc[train][features], df.iloc[train][target])\n",
    "\n",
    "        # Przygotowanie prognoz dla zbioru treningowego i testowego\n",
    "        # UWAGA Sklearn zwracał będzie dwie kolumny prawdopodobieństw dla obydwu klas\n",
    "        predsTrain = clf.predict_proba(df.iloc[train][features])[:,1]\n",
    "        preds = clf.predict_proba(df.iloc[test][features])[:,1]\n",
    "        \n",
    "        # Zachowajmy informacje o predykcjach dla tego foldu\n",
    "        predictions.append(preds.tolist().copy())\n",
    "        \n",
    "        # Razem z indeksami w oryginalnym data frame\n",
    "        indices.append(df.iloc[test].index.tolist().copy())\n",
    "        \n",
    "        # Policzenie dopasowania za pomocą metryki ROC-AUC\n",
    "        trainScore = roc_auc_score((df[target].iloc[train]==1), predsTrain)\n",
    "        testScore = roc_auc_score((df[target].iloc[test]==1), preds)\n",
    "        \n",
    "        # Zapisanie wyników do listy \n",
    "        trainResults.append(trainScore)\n",
    "        testResults.append(testScore)\n",
    "        \n",
    "        # Informowanie o każdym foldzie razem z wynikami treningowymi możemy opcjonalnie wyświetlać w trakcie\n",
    "        if debug:\n",
    "            print(\"Train AUC:\", trainScore,\n",
    "                  \"Valid AUC:\", testScore)\n",
    "        \n",
    "    return trainResults, testResults, predictions, indices"
   ]
  },
  {
   "cell_type": "code",
   "execution_count": 6,
   "id": "6361f7a3",
   "metadata": {},
   "outputs": [
    {
     "name": "stdout",
     "output_type": "stream",
     "text": [
      "RandomForestClassifier(n_jobs=-1, random_state=2020)\n",
      "Train AUC: 1.0 Valid AUC: 0.999114968138853\n",
      "RandomForestClassifier(n_jobs=-1, random_state=2020)\n",
      "Train AUC: 1.0 Valid AUC: 0.9983551166531053\n",
      "RandomForestClassifier(n_jobs=-1, random_state=2020)\n",
      "Train AUC: 1.0 Valid AUC: 0.998822904655277\n",
      "RandomForestClassifier(n_jobs=-1, random_state=2020)\n",
      "Train AUC: 1.0 Valid AUC: 0.9979521965570866\n",
      "RandomForestClassifier(n_jobs=-1, random_state=2020)\n",
      "Train AUC: 1.0 Valid AUC: 0.998390459761494\n",
      "0.9985271291531632\n"
     ]
    }
   ],
   "source": [
    "#wyniki trenowania modelu RF dla podstawowych wartości hiperparametrów (w tym GINI)\n",
    "trainResults, testResults, predictions, indices = CVTestRFClass(debug=True)\n",
    "print(np.mean(testResults))"
   ]
  },
  {
   "cell_type": "code",
   "execution_count": 7,
   "id": "46a39e79",
   "metadata": {},
   "outputs": [
    {
     "name": "stdout",
     "output_type": "stream",
     "text": [
      "10 0.9999951874588309 0.9973558727862976 0.0026393146725333105\n",
      "25 0.999999843749302 0.9982515345799383 0.0017483091693636377\n",
      "50 1.0 0.9983760303935728 0.0016239696064271891\n",
      "100 1.0 0.9985271291531632 0.0014728708468367824\n",
      "200 1.0 0.9985503119453281 0.0014496880546719382\n",
      "500 1.0 0.9985824468898125 0.0014175531101875416\n",
      "1000 1.0 0.9985484317746369 0.0014515682253630757\n"
     ]
    }
   ],
   "source": [
    "#szukanie optymalnej ilości drzew decyzyjnych\n",
    "for k in [10, 25, 50, 100, 200, 500, 1000]:\n",
    "    trainResults, testResults, predictions, indices = CVTestRFClass(n_estimators=k)\n",
    "    print(k, np.mean(trainResults), np.mean(testResults), np.mean(trainResults) - np.mean(testResults))\n",
    "#50 najlepsze"
   ]
  },
  {
   "cell_type": "code",
   "execution_count": 8,
   "id": "aa548df9",
   "metadata": {},
   "outputs": [
    {
     "name": "stdout",
     "output_type": "stream",
     "text": [
      "2 0.984854058384775 0.98455991380173 0.00029414458304499735\n",
      "4 0.9923551927727623 0.9917461182009527 0.0006090745718095869\n",
      "6 0.9957059914350609 0.9941716851616993 0.0015343062733615964\n",
      "8 0.9982086225383553 0.996485744788702 0.0017228777496532954\n",
      "10 0.9993796327446341 0.9975133628795767 0.001866269865057446\n",
      "12 0.9998242579137715 0.9980038436400596 0.0018204142737119344\n",
      "14 0.9999647866781392 0.998234042120114 0.0017307445580251324\n",
      "16 0.9999940998170018 0.9983176655953448 0.001676434221656975\n",
      "18 0.9999996499977841 0.9982512302954646 0.001748419702319537\n",
      "20 0.9999999874999805 0.9983977814246726 0.0016022060753079215\n"
     ]
    }
   ],
   "source": [
    "# n_estimator = 50, teraz szukamy maksymalnej głębokości pojedyńczego drzewa \n",
    "for k in range(2,22,2):\n",
    "    trainResults, testResults, predictions, indices = CVTestRFClass(n_estimators=50, max_depth=k)\n",
    "    print(k, np.mean(trainResults), np.mean(testResults), np.mean(trainResults) - np.mean(testResults))\n",
    "#max_depth = 20, wtedy najlepszy wynik"
   ]
  },
  {
   "cell_type": "code",
   "execution_count": 10,
   "id": "196e4023",
   "metadata": {},
   "outputs": [
    {
     "name": "stdout",
     "output_type": "stream",
     "text": [
      "2 0.9999978749434257 0.998175154581267 0.0018227203621586918\n",
      "4 0.9999997374987359 0.998422902855945 0.001576834642790903\n",
      "6 0.9999999874999805 0.9983978815088432 0.0016021059911373037\n",
      "8 1.0 0.9982240369896245 0.0017759630103755253\n",
      "10 0.9999999749993147 0.9979820665995023 0.002017908399812418\n",
      "12 1.0 0.9980119992166037 0.0019880007833963376\n",
      "14 0.9999999937496714 0.9977895854040788 0.002210408345592607\n",
      "16 0.9999999874993429 0.997554758264906 0.0024452292344369075\n",
      "18 0.999999987499972 0.9974115633462951 0.0025884241536768826\n",
      "20 0.9999999624986579 0.997390002924992 0.002609959573665832\n",
      "22 0.9999999312463862 0.9974724096354605 0.0025275216109257315\n",
      "24 0.9999999749986859 0.9974153748600669 0.002584600138618942\n",
      "26 0.9999999562477002 0.9971731092057359 0.002826847041964342\n",
      "28 0.9999999312463862 0.9973885331046839 0.0026113981417023036\n",
      "30 0.9999999624980287 0.9972896864878861 0.0027102760101426204\n",
      "32 0.9999999374967146 0.9968243187746376 0.003175618722076945\n",
      "34 0.9999999187460435 0.9968374905626491 0.0031624281833944057\n",
      "36 0.9999999187457291 0.9968336379854561 0.0031662807602730325\n",
      "38 0.9999999562477002 0.9966032258487505 0.003396730398949721\n",
      "40 0.9999999312467006 0.9968380157723578 0.003161915474342858\n",
      "42 0.9999999249966866 0.9961346157757612 0.003865309220925317\n",
      "44 0.9999999187466724 0.9960771689302692 0.0039227498164031704\n",
      "46 0.9999999062457009 0.9958526143537083 0.004147291891992588\n",
      "48 0.999999899995687 0.9958002707368333 0.004199629258853643\n"
     ]
    }
   ],
   "source": [
    "# n_estimator = 50 i max_depth = 20, teraz szukamy ilości zmiennych branych pod uwagę przy podziale węzła\n",
    "for k in range(2, len(features) + 1,2):\n",
    "    trainResults, testResults, predictions, indices = CVTestRFClass(n_estimators=50, max_depth=20,\n",
    "                                                                    max_features=k)\n",
    "    print(k, np.mean(trainResults), np.mean(testResults), np.mean(trainResults) - np.mean(testResults))\n",
    "# najlepszy wynik dla 4"
   ]
  },
  {
   "cell_type": "code",
   "execution_count": 15,
   "id": "87056b1d",
   "metadata": {},
   "outputs": [
    {
     "name": "stdout",
     "output_type": "stream",
     "text": [
      "2 0.998422902855945\n",
      "4 0.9984470930058261\n",
      "6 0.9982009889969963\n",
      "8 0.9981606246447058\n",
      "10 0.9980452557100413\n",
      "15 0.9978070097872942\n",
      "20 0.9977579337515834\n",
      "30 0.9974476774172165\n"
     ]
    }
   ],
   "source": [
    "# n_estimator = 50 i max_depth = 20 i max_features = 4, teraz szukamy minimalne ilości danych w węźle przed podziałem\n",
    "for k in [2, 4, 6, 8, 10, 15, 20, 30]:\n",
    "    trainResults, testResults, predictions, indices = CVTestRFClass(n_estimators=50, max_depth=20,\n",
    "                                                                    max_features=4,\n",
    "                                                                    min_samples_split=k)\n",
    "    print(k, np.mean(testResults))\n",
    "# dla 4 najlepszy wynik"
   ]
  },
  {
   "cell_type": "code",
   "execution_count": 16,
   "id": "64bc1aa2",
   "metadata": {},
   "outputs": [
    {
     "name": "stdout",
     "output_type": "stream",
     "text": [
      "1 0.9984470930058261\n",
      "2 0.9980979214373603\n",
      "4 0.9975237603198375\n"
     ]
    }
   ],
   "source": [
    "# n_estimator = 50 i max_depth = 20 i max_features = 4 i min_samples_split = 4, teraz minimalna ilość danych w węźle końcowym\n",
    "for k in [1, 2, 4]:\n",
    "    trainResults, testResults, predictions, indices = CVTestRFClass(n_estimators=50, max_depth=20,\n",
    "                                                                    max_features=4,\n",
    "                                                                    min_samples_split=4, min_samples_leaf=k)\n",
    "    print(k, np.mean(testResults))\n",
    "# dla 1 "
   ]
  },
  {
   "cell_type": "code",
   "execution_count": 18,
   "id": "e62b64b7",
   "metadata": {},
   "outputs": [
    {
     "name": "stdout",
     "output_type": "stream",
     "text": [
      "0.9999925873108368 0.9984470930058261\n"
     ]
    }
   ],
   "source": [
    "#najlepszy model RandomForest z dobranymi hiperparametrami\n",
    "trainResults, testResults, predictions, indices = CVTestRFClass(n_estimators=50, max_depth=20,\n",
    "                                                                    max_features=4,\n",
    "                                                                    min_samples_split=4, min_samples_leaf=1)\n",
    "print(np.mean(trainResults), np.mean(testResults))\n",
    "\n",
    "modelRF = {\n",
    "    \"name\":\"RF\",\n",
    "    \"description\":\"Model RF, ze zmiennymi kategorycznymi z LE\",\n",
    "    \"specification\":'n_estimators=50, max_depth=20, max_features=4, min_samples_split=4, min_samples_leaf=1',\n",
    "    \"trainResults\":trainResults.copy(),\n",
    "    \"testResults\":testResults.copy(),\n",
    "    \"predictions\":predictions.copy(),\n",
    "    \"indices\":indices.copy(),\n",
    "}"
   ]
  },
  {
   "cell_type": "code",
   "execution_count": 14,
   "id": "68ac4f88",
   "metadata": {},
   "outputs": [
    {
     "data": {
      "image/png": "[encoded data removed]",
      "text/plain": [
       "<Figure size 1000x900 with 1 Axes>"
      ]
     },
     "metadata": {},
     "output_type": "display_data"
    }
   ],
   "source": [
    "def plotROCs(results):\n",
    "    ''' Funkcja, do rysowania szeregu wyników krzywych ROC dla poszczególnych eksperymentów\n",
    "    results - lista wyników jako 3 elementowe tuple (true, pred, label)\n",
    "    '''\n",
    "\n",
    "    # Ustalanie wielkości rysunku\n",
    "    fig, ax = plt.subplots(figsize=(10,9))\n",
    "\n",
    "    for true, pred, label in results:\n",
    "        # Obliczenie punktów potrzebnych do narysowani akrzywej ROC\n",
    "        # funkcja roc_curve zwarca trzy serie danych, fpr, tpr oraz poziomy progów odcięcia\n",
    "        fpr, tpr, thresholds = roc_curve(true, pred)\n",
    "        # Obliczamy pole powierzchni pod krzywą\n",
    "        rocScore = roc_auc_score(true, pred)\n",
    "        rocScore = round(rocScore, 3)\n",
    "\n",
    "        # Grubość krzywej\n",
    "        lw = 2\n",
    "\n",
    "        # Rysujemy krzywą ROC\n",
    "        ax.plot(fpr, tpr, lw=lw, label=f'{label}: {rocScore}')\n",
    "    # Rysujemy krzywą 45 stopni jako punkt odniesienia\n",
    "    ax.plot([0, 1], [0, 1], color='navy', lw=lw, linestyle='--')\n",
    "    # Dodajemy lekkie marginesy do zakresu aby krzywa nie pokrywała się z osiami\n",
    "    ax.set_xlim([-0.01, 1.0])\n",
    "    ax.set_ylim([0.0, 1.01])\n",
    "    ax.set_xlabel('False Positive Rate')\n",
    "    ax.set_ylabel('True Positive Rate')\n",
    "    ax.set_title(f'Receiver operating characteristic - {rocScore}')\n",
    "    ax.legend(loc=\"lower right\")\n",
    "    plt.show()\n",
    "\n",
    "res2plot = []\n",
    "true = (df[target]==1).sort_index()\n",
    "pred = pd.Series(sum(modelRF[\"predictions\"], []), index=sum(modelRF[\"indices\"], [])).sort_index()\n",
    "res2plot.append((true, pred, modelRF[\"name\"]))\n",
    "\n",
    "plotROCs(res2plot)"
   ]
  },
  {
   "cell_type": "code",
   "execution_count": null,
   "id": "d13ecad3",
   "metadata": {},
   "outputs": [],
   "source": []
  }
 ],
 "metadata": {
  "kernelspec": {
   "display_name": "Python 3 (ipykernel)",
   "language": "python",
   "name": "python3"
  },
  "language_info": {
   "codemirror_mode": {
    "name": "ipython",
    "version": 3
   },
   "file_extension": ".py",
   "mimetype": "text/x-python",
   "name": "python",
   "nbconvert_exporter": "python",
   "pygments_lexer": "ipython3",
   "version": "3.10.9"
  }
 },
 "nbformat": 4,
 "nbformat_minor": 5
}
