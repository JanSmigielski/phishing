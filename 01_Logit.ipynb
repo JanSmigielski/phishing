{
 "cells": [
  {
   "cell_type": "code",
   "execution_count": 39,
   "id": "ce0fff9f",
   "metadata": {},
   "outputs": [],
   "source": [
    "import pandas as pd\n",
    "import numpy as np\n",
    "import pickle\n",
    "import matplotlib.pyplot as plt\n",
    "from sklearn.model_selection import train_test_split\n",
    "from sklearn.ensemble import RandomForestClassifier\n",
    "from sklearn.svm import SVC\n",
    "from sklearn import neighbors\n",
    "from sklearn import metrics\n",
    "from sklearn import tree\n",
    "from sklearn.tree import export_graphviz\n",
    "from sklearn.model_selection import KFold\n",
    "from sklearn.metrics import roc_curve, roc_auc_score\n",
    "\n",
    "import statsmodels.api as sm"
   ]
  },
  {
   "cell_type": "code",
   "execution_count": 40,
   "id": "d0d6be75",
   "metadata": {},
   "outputs": [],
   "source": [
    "pd.set_option(\"display.max_rows\",50)\n",
    "df=pd.read_csv('Phishing_Legitimate_full.csv')\n",
    "\n",
    "#koniecznie usuwamy id bo przypisuje do tej kolumny predykcje, anstenie model ma metryki 1\n",
    "df.drop(['id'],axis=1,inplace=True)"
   ]
  },
  {
   "cell_type": "code",
   "execution_count": 41,
   "id": "fa087bea",
   "metadata": {},
   "outputs": [
    {
     "data": {
      "text/plain": [
       "['NumDots',\n",
       " 'SubdomainLevel',\n",
       " 'PathLevel',\n",
       " 'UrlLength',\n",
       " 'NumDash',\n",
       " 'NumDashInHostname',\n",
       " 'AtSymbol',\n",
       " 'TildeSymbol',\n",
       " 'NumUnderscore',\n",
       " 'NumPercent',\n",
       " 'NumQueryComponents',\n",
       " 'NumAmpersand',\n",
       " 'NumHash',\n",
       " 'NumNumericChars',\n",
       " 'NoHttps',\n",
       " 'RandomString',\n",
       " 'IpAddress',\n",
       " 'DomainInSubdomains',\n",
       " 'DomainInPaths',\n",
       " 'HttpsInHostname',\n",
       " 'HostnameLength',\n",
       " 'PathLength',\n",
       " 'QueryLength',\n",
       " 'DoubleSlashInPath',\n",
       " 'NumSensitiveWords',\n",
       " 'EmbeddedBrandName',\n",
       " 'PctExtHyperlinks',\n",
       " 'PctExtResourceUrls',\n",
       " 'ExtFavicon',\n",
       " 'InsecureForms',\n",
       " 'RelativeFormAction',\n",
       " 'ExtFormAction',\n",
       " 'AbnormalFormAction',\n",
       " 'PctNullSelfRedirectHyperlinks',\n",
       " 'FrequentDomainNameMismatch',\n",
       " 'FakeLinkInStatusBar',\n",
       " 'RightClickDisabled',\n",
       " 'PopUpWindow',\n",
       " 'SubmitInfoToEmail',\n",
       " 'IframeOrFrame',\n",
       " 'MissingTitle',\n",
       " 'ImagesOnlyInForm',\n",
       " 'SubdomainLevelRT',\n",
       " 'UrlLengthRT',\n",
       " 'PctExtResourceUrlsRT',\n",
       " 'AbnormalExtFormActionR',\n",
       " 'ExtMetaScriptLinkRT',\n",
       " 'PctExtNullSelfRedirectHyperlinksRT']"
      ]
     },
     "execution_count": 41,
     "metadata": {},
     "output_type": "execute_result"
    }
   ],
   "source": [
    "features = df.columns.tolist()\n",
    "#usunięcie zmiennej objaśnianej\n",
    "features.remove('CLASS_LABEL')\n",
    "features"
   ]
  },
  {
   "cell_type": "code",
   "execution_count": 42,
   "id": "1f5a0764",
   "metadata": {},
   "outputs": [
    {
     "data": {
      "text/plain": [
       "'NumDots+SubdomainLevel+PathLevel+UrlLength+NumDash+NumDashInHostname+AtSymbol+TildeSymbol+NumUnderscore+NumPercent+NumQueryComponents+NumAmpersand+NumHash+NumNumericChars+NoHttps+RandomString+IpAddress+DomainInSubdomains+DomainInPaths+HttpsInHostname+HostnameLength+PathLength+QueryLength+DoubleSlashInPath+NumSensitiveWords+EmbeddedBrandName+PctExtHyperlinks+PctExtResourceUrls+ExtFavicon+InsecureForms+RelativeFormAction+ExtFormAction+AbnormalFormAction+PctNullSelfRedirectHyperlinks+FrequentDomainNameMismatch+FakeLinkInStatusBar+RightClickDisabled+PopUpWindow+SubmitInfoToEmail+IframeOrFrame+MissingTitle+ImagesOnlyInForm+SubdomainLevelRT+UrlLengthRT+PctExtResourceUrlsRT+AbnormalExtFormActionR+ExtMetaScriptLinkRT+PctExtNullSelfRedirectHyperlinksRT'"
      ]
     },
     "execution_count": 42,
     "metadata": {},
     "output_type": "execute_result"
    }
   ],
   "source": [
    "#podział zmiennych objaśniających\n",
    "rhs = \"+\".join(features)\n",
    "rhs"
   ]
  },
  {
   "cell_type": "code",
   "execution_count": 43,
   "id": "73c6d569",
   "metadata": {},
   "outputs": [],
   "source": [
    "#wrapper walidacji krzyżowej dla modelu GLM\n",
    "def CVTest(nFolds = 5, randomState=2020, debug=False):\n",
    "    kf = KFold(n_splits=nFolds, shuffle=True, random_state=randomState)\n",
    "\n",
    "    # Listy do zapisywania wyników\n",
    "    testResults = []\n",
    "    trainResults = []\n",
    "    predictions = []\n",
    "    indices = []\n",
    "    \n",
    "    for train, test in kf.split(df.index.values):\n",
    "        # Estymacja modelu GLM\n",
    "        mod = sm.GLM.from_formula(formula=\"CLASS_LABEL ~ \"+rhs,\n",
    "                                  data=df.iloc[train], family=sm.families.Binomial())\n",
    "        res = mod.fit()\n",
    "        predsTrain = res.predict()\n",
    "        preds = res.predict(df.iloc[test])\n",
    "        \n",
    "        # Zachowajmy informacje o predykcjach dla tego foldu\n",
    "        predictions.append(preds.tolist().copy())\n",
    "        \n",
    "        # Razem z indeksami w oryginalnym data frame\n",
    "        indices.append(df.iloc[test].index.tolist().copy())\n",
    "        \n",
    "        # Informowanie o każdym foldzie razem z wynikami treningowymi możemy opcjonalnie wyświetlać w trakcie\n",
    "        trainScore = roc_auc_score((df.CLASS_LABEL.iloc[train]==1),predsTrain)\n",
    "        testScore = roc_auc_score((df.CLASS_LABEL.iloc[test]==1),preds)\n",
    "        \n",
    "        # Zapisanie wyników dopasowania w foldach\n",
    "        trainResults.append(trainScore)\n",
    "        testResults.append(testScore)\n",
    "        \n",
    "        if debug:\n",
    "            print(\"Train AUC:\", trainScore,\n",
    "                  \"Valid AUC:\", testScore)\n",
    "        \n",
    "    return trainResults, testResults, predictions, indices"
   ]
  },
  {
   "cell_type": "code",
   "execution_count": 44,
   "id": "5c40e8d8",
   "metadata": {},
   "outputs": [
    {
     "name": "stdout",
     "output_type": "stream",
     "text": [
      "0.9855539816948031 0.9838801178113986\n"
     ]
    }
   ],
   "source": [
    "#zapisanie wyników modelu logitowego \n",
    "trainResults, testResults, predictions, indices = CVTest(nFolds = 5, randomState=2020)\n",
    "print(np.mean(trainResults), np.mean(testResults))\n",
    "modelLogit = {\n",
    "    \"name\":\"Logit\",\n",
    "    \"description\":\"Model Logit \",\n",
    "    \"specification\":'nFolds= 5 randomState = 2020',\n",
    "    \"trainResults\":trainResults.copy(),\n",
    "    \"testResults\":testResults.copy(),\n",
    "    \"predictions\":predictions.copy(),\n",
    "    \"indices\":indices.copy(),\n",
    "}\n"
   ]
  },
  {
   "cell_type": "code",
   "execution_count": null,
   "id": "5a965cc6",
   "metadata": {},
   "outputs": [],
   "source": []
  }
 ],
 "metadata": {
  "kernelspec": {
   "display_name": "Python 3 (ipykernel)",
   "language": "python",
   "name": "python3"
  },
  "language_info": {
   "codemirror_mode": {
    "name": "ipython",
    "version": 3
   },
   "file_extension": ".py",
   "mimetype": "text/x-python",
   "name": "python",
   "nbconvert_exporter": "python",
   "pygments_lexer": "ipython3",
   "version": "3.10.9"
  }
 },
 "nbformat": 4,
 "nbformat_minor": 5
}
