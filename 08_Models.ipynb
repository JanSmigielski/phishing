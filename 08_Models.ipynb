{
 "cells": [
  {
   "cell_type": "code",
   "execution_count": 24,
   "id": "e82a50a9",
   "metadata": {},
   "outputs": [],
   "source": [
    "import pandas as pd\n",
    "import numpy as np\n",
    "import matplotlib.pyplot as plt\n",
    "from sklearn.model_selection import train_test_split\n",
    "from sklearn.ensemble import RandomForestClassifier\n",
    "from sklearn.svm import SVC\n",
    "from sklearn import neighbors\n",
    "from sklearn import metrics\n",
    "from sklearn import tree\n",
    "from sklearn.tree import export_graphviz\n",
    "from sklearn.model_selection import KFold\n",
    "from sklearn.metrics import roc_curve, roc_auc_score\n",
    "from sklearn.naive_bayes import GaussianNB\n",
    "from operator import itemgetter\n",
    "import statsmodels.api as sm\n",
    "import time\n",
    "import xgboost as xgb\n",
    "from random import shuffle\n",
    "from random import randint\n"
   ]
  },
  {
   "cell_type": "code",
   "execution_count": 25,
   "id": "fdc3d8da",
   "metadata": {},
   "outputs": [],
   "source": [
    "pd.set_option(\"display.max_rows\",50)\n",
    "df=pd.read_csv('Phishing_Legitimate_full.csv')\n",
    "dfn=pd.read_csv('Phishing_Legitimate_full.csv')\n",
    "#koniecznie usuwamy id bo przypisuje do tej kolumny predykcje, anstenie model ma metryki 1\n",
    "df.drop(['id'],axis=1,inplace=True)"
   ]
  },
  {
   "cell_type": "code",
   "execution_count": 26,
   "id": "3fc6a71c",
   "metadata": {},
   "outputs": [],
   "source": [
    "target = 'CLASS_LABEL'\n",
    "numFeatures = ['NumDots', 'SubdomainLevel', 'PathLevel', 'UrlLength', 'NumDash',\n",
    "       'NumDashInHostname', 'NumUnderscore','NumPercent', 'NumQueryComponents', 'NumAmpersand',\n",
    "       'NumNumericChars','HostnameLength', 'PathLength', 'QueryLength',\n",
    "       'NumSensitiveWords']\n",
    "catFeatures = ['AtSymbol','TildeSymbol','NumHash', 'NoHttps','RandomString', 'IpAddress','DomainInSubdomains','DomainInPaths','HttpsInHostname',\n",
    "              'DoubleSlashInPath','EmbeddedBrandName','PctExtHyperlinks','PctExtResourceUrls', 'ExtFavicon', 'InsecureForms',\n",
    "       'RelativeFormAction', 'ExtFormAction', 'AbnormalFormAction',\n",
    "       'PctNullSelfRedirectHyperlinks', 'FrequentDomainNameMismatch',\n",
    "       'FakeLinkInStatusBar', 'RightClickDisabled', 'PopUpWindow',\n",
    "       'SubmitInfoToEmail', 'IframeOrFrame', 'MissingTitle',\n",
    "       'ImagesOnlyInForm','ExtMetaScriptLinkRT','UrlLengthRT','SubdomainLevelRT',\n",
    "       'PctExtResourceUrlsRT', 'AbnormalExtFormActionR',\n",
    "       'PctExtNullSelfRedirectHyperlinksRT']"
   ]
  },
  {
   "cell_type": "code",
   "execution_count": 27,
   "id": "2291f85e",
   "metadata": {},
   "outputs": [],
   "source": [
    "#podział na df i df znormalizowane \n",
    "dummLev = pd.get_dummies(dfn[catFeatures], drop_first=True)\n",
    "dfn = pd.concat([dfn[numFeatures], dummLev, dfn[[target]]], axis=1)\n",
    "dummLev = pd.get_dummies(df[catFeatures], drop_first=True)\n",
    "df = pd.concat([df[numFeatures], dummLev, df[[target]]], axis=1)"
   ]
  },
  {
   "cell_type": "code",
   "execution_count": 28,
   "id": "c9714b64",
   "metadata": {},
   "outputs": [],
   "source": [
    "dfn[numFeatures] = dfn[numFeatures].apply(lambda x: (x-x.mean())/x.std())"
   ]
  },
  {
   "cell_type": "code",
   "execution_count": 29,
   "id": "e7039bcc",
   "metadata": {
    "scrolled": true
   },
   "outputs": [
    {
     "name": "stdout",
     "output_type": "stream",
     "text": [
      "['NumDots', 'SubdomainLevel', 'PathLevel', 'UrlLength', 'NumDash', 'NumDashInHostname', 'NumUnderscore', 'NumPercent', 'NumQueryComponents', 'NumAmpersand', 'NumNumericChars', 'HostnameLength', 'PathLength', 'QueryLength', 'NumSensitiveWords', 'AtSymbol', 'TildeSymbol', 'NumHash', 'NoHttps', 'RandomString', 'IpAddress', 'DomainInSubdomains', 'DomainInPaths', 'HttpsInHostname', 'DoubleSlashInPath', 'EmbeddedBrandName', 'PctExtHyperlinks', 'PctExtResourceUrls', 'ExtFavicon', 'InsecureForms', 'RelativeFormAction', 'ExtFormAction', 'AbnormalFormAction', 'PctNullSelfRedirectHyperlinks', 'FrequentDomainNameMismatch', 'FakeLinkInStatusBar', 'RightClickDisabled', 'PopUpWindow', 'SubmitInfoToEmail', 'IframeOrFrame', 'MissingTitle', 'ImagesOnlyInForm', 'ExtMetaScriptLinkRT', 'UrlLengthRT', 'SubdomainLevelRT', 'PctExtResourceUrlsRT', 'AbnormalExtFormActionR', 'PctExtNullSelfRedirectHyperlinksRT']\n",
      "['NumDots', 'SubdomainLevel', 'PathLevel', 'UrlLength', 'NumDash', 'NumDashInHostname', 'NumUnderscore', 'NumPercent', 'NumQueryComponents', 'NumAmpersand', 'NumNumericChars', 'HostnameLength', 'PathLength', 'QueryLength', 'NumSensitiveWords', 'AtSymbol', 'TildeSymbol', 'NumHash', 'NoHttps', 'RandomString', 'IpAddress', 'DomainInSubdomains', 'DomainInPaths', 'HttpsInHostname', 'DoubleSlashInPath', 'EmbeddedBrandName', 'PctExtHyperlinks', 'PctExtResourceUrls', 'ExtFavicon', 'InsecureForms', 'RelativeFormAction', 'ExtFormAction', 'AbnormalFormAction', 'PctNullSelfRedirectHyperlinks', 'FrequentDomainNameMismatch', 'FakeLinkInStatusBar', 'RightClickDisabled', 'PopUpWindow', 'SubmitInfoToEmail', 'IframeOrFrame', 'MissingTitle', 'ImagesOnlyInForm', 'ExtMetaScriptLinkRT', 'UrlLengthRT', 'SubdomainLevelRT', 'PctExtResourceUrlsRT', 'AbnormalExtFormActionR', 'PctExtNullSelfRedirectHyperlinksRT']\n"
     ]
    }
   ],
   "source": [
    "features = df.columns.tolist()\n",
    "features.remove(target)\n",
    "print(features)\n",
    "featuresn = dfn.columns.tolist()\n",
    "featuresn.remove(target)\n",
    "print(featuresn)"
   ]
  },
  {
   "cell_type": "code",
   "execution_count": 30,
   "id": "6264db34",
   "metadata": {},
   "outputs": [
    {
     "data": {
      "text/plain": [
       "'NumDots+SubdomainLevel+PathLevel+UrlLength+NumDash+NumDashInHostname+NumUnderscore+NumPercent+NumQueryComponents+NumAmpersand+NumNumericChars+HostnameLength+PathLength+QueryLength+NumSensitiveWords+AtSymbol+TildeSymbol+NumHash+NoHttps+RandomString+IpAddress+DomainInSubdomains+DomainInPaths+HttpsInHostname+DoubleSlashInPath+EmbeddedBrandName+PctExtHyperlinks+PctExtResourceUrls+ExtFavicon+InsecureForms+RelativeFormAction+ExtFormAction+AbnormalFormAction+PctNullSelfRedirectHyperlinks+FrequentDomainNameMismatch+FakeLinkInStatusBar+RightClickDisabled+PopUpWindow+SubmitInfoToEmail+IframeOrFrame+MissingTitle+ImagesOnlyInForm+ExtMetaScriptLinkRT+UrlLengthRT+SubdomainLevelRT+PctExtResourceUrlsRT+AbnormalExtFormActionR+PctExtNullSelfRedirectHyperlinksRT'"
      ]
     },
     "execution_count": 30,
     "metadata": {},
     "output_type": "execute_result"
    }
   ],
   "source": [
    "rhs = \"+\".join(features)\n",
    "rhs"
   ]
  },
  {
   "cell_type": "code",
   "execution_count": 32,
   "id": "1d49a110",
   "metadata": {},
   "outputs": [],
   "source": [
    "def CVTest(nFolds = 5, randomState=2020, debug=False):\n",
    "    kf = KFold(n_splits=nFolds, shuffle=True, random_state=randomState)\n",
    "\n",
    "    # Listy do zapisywania wyników\n",
    "    testResults = []\n",
    "    trainResults = []\n",
    "    predictions = []\n",
    "    indices = []\n",
    "    \n",
    "    for train, test in kf.split(df.index.values):\n",
    "        # Estymacja modelu GLM\n",
    "        mod = sm.GLM.from_formula(formula=\"CLASS_LABEL ~ \"+rhs,\n",
    "                                  data=df.iloc[train], family=sm.families.Binomial())\n",
    "        res = mod.fit()\n",
    "        predsTrain = res.predict()\n",
    "        preds = res.predict(df.iloc[test])\n",
    "        \n",
    "        # Zachowajmy informacje o predykcjach dla tego foldu\n",
    "        predictions.append(preds.tolist().copy())\n",
    "        \n",
    "        # Razem z indeksami w oryginalnym data frame\n",
    "        indices.append(df.iloc[test].index.tolist().copy())\n",
    "        \n",
    "        # Informowanie o każdym foldzie razem z wynikami treningowymi możemy opcjonalnie wyświetlać w trakcie\n",
    "        trainScore = roc_auc_score((df.CLASS_LABEL.iloc[train]==1),predsTrain)\n",
    "        testScore = roc_auc_score((df.CLASS_LABEL.iloc[test]==1),preds)\n",
    "        \n",
    "        # Zapisanie wyników dopasowania w foldach\n",
    "        trainResults.append(trainScore)\n",
    "        testResults.append(testScore)\n",
    "        \n",
    "        if debug:\n",
    "            print(\"Train AUC:\", trainScore,\n",
    "                  \"Valid AUC:\", testScore)\n",
    "        \n",
    "    return trainResults, testResults, predictions, indices\n",
    "\n",
    "def CVTestSVM(nFolds = 5, randomState=2020, debug=False, sampleSize = 5000, *args, **kwargs):\n",
    "    kf = KFold(n_splits=nFolds, shuffle=True, random_state=randomState)\n",
    "    # Listy na wyniki:\n",
    "    testResults = []\n",
    "    trainResults = []\n",
    "    predictions = []\n",
    "    indices = []\n",
    "    \n",
    "    for train, test in kf.split(dfn.index.values):\n",
    "        # Przygotowanie estymatora\n",
    "        clf = SVC(probability=True, max_iter=-1, random_state=2020, tol=0.001, cache_size=500, *args, **kwargs)\n",
    "        # Wyświetlenie wywołania funkcji\n",
    "        if debug:\n",
    "            print(clf)\n",
    "        #Zmniejszenie zbioru treningowego\n",
    "        sampleSize = sampleSize\n",
    "        X = dfn.iloc[train].sample(sampleSize)\n",
    "        # Trenowanie modelu\n",
    "        clf.fit(X[features], X[target])\n",
    "\n",
    "        # Przygotowanie prognoz dla zbioru traeningowego i testowego\n",
    "        # UWAGA Sklearn zwracałbędzie dwie kolumny prawdopodobieństw dla obydwu klas\n",
    "        predsTrain = clf.predict_proba(dfn.iloc[train][features])[:,1]\n",
    "        preds = clf.predict_proba(dfn.iloc[test][features])[:,1]\n",
    "        \n",
    "        # Zachowajmy informacje o predykcjach dla tego foldu\n",
    "        predictions.append(preds.tolist().copy())\n",
    "        \n",
    "        # Razem z indeksami w oryginalnym data frame\n",
    "        indices.append(dfn.iloc[test].index.tolist().copy())\n",
    "        \n",
    "        # Policzenie statystyka lda każdego foldu\n",
    "        trainScore = roc_auc_score((dfn[target].iloc[train]==1), predsTrain)\n",
    "        testScore = roc_auc_score((dfn[target].iloc[test]==1), preds)\n",
    "        \n",
    "        # Zapisanie wyników do list\n",
    "        trainResults.append(trainScore)\n",
    "        testResults.append(testScore)\n",
    "        \n",
    "        # Informowanie o każdym foldzie razem z wynikami treningowymi możemy opcjonalnie wyświetlać w trakcie\n",
    "        if debug:\n",
    "            print(\"Train AUC:\", trainScore,\n",
    "                  \"Valid AUC:\", testScore)\n",
    "        \n",
    "    return trainResults, testResults, predictions, indices\n",
    "\n",
    "def run_xgb(train, validate, features, target, # argumenty obowiązkowe\n",
    "            eta=0.03, max_depth=7, subsample = 0.7, colsample_bytree = 0.7, # hiperparametry\n",
    "            colsample_bylevel=1,lambdaX = 1, alpha=0, gamma=0, min_child_weight=0, # hiperparametry\n",
    "            rate_drop = 0.2, skip_drop=0.5, # hiperparametry\n",
    "            num_boost_round = 1000, early_stopping_rounds = 50, # hiperparametry\n",
    "            debug=True, eval_metric= [\"auc\"], objective = \"binary:logistic\", # konfiguracja\n",
    "            seed=2017, booster = \"gbtree\", tree_method=\"exact\", grow_policy=\"depthwise\"): # konfiguracja\n",
    "   \n",
    "   \n",
    "    start_time = time.time()\n",
    "    paramList= ['eta', 'max_depth',\n",
    "         'subsample', 'colsample_bytree', 'colsample_bylevel',\n",
    "         'lambdaX', 'alpha', 'gamma', 'min_child_weight',\n",
    "         'num_boost_round', 'early_stopping_rounds',\n",
    "         'rate_drop', 'skip_drop',\n",
    "         'eval_metric', 'objective', \n",
    "          'seed', 'booster', 'tree_method', 'grow_policy']\n",
    "    \n",
    "    # Stworzenie słownika do przekazania do XGB\n",
    "    params = dict()\n",
    "    for param in paramList:\n",
    "        params[param]=eval(param)\n",
    "    if(debug):\n",
    "        for param in paramList:\n",
    "            print(param, eval(param), end=\", \")\n",
    "        print('\\nLength train:', len(train.index))\n",
    "        print('Length valid:', len(validate.index))\n",
    "\n",
    "    # Automatyczne przekazanie liczby klas dla wielu poziomów klasyfikacji\n",
    "    if (params[\"objective\"]==\"multi:softmax\" or params[\"objective\"]==\"multi:softprob\"):\n",
    "        params[\"num_class\"]=train[target].nunique()\n",
    "    params[\"silent\"]=1\n",
    "    \n",
    "    # XGB wymaga w słowniku parametrów słowa kluczowego lambda, poniżej workaround\n",
    "    params[\"lambda\"]=lambdaX\n",
    "    \n",
    "    # Przekształcenie zbiorów do struktury DMatrix\n",
    "    # Struktura danych DMatrix pozwala na efektywne tworzenie drzew\n",
    "    dtrain = xgb.DMatrix(train[features].values, train[target].values, feature_names=train[features].columns.values)\n",
    "    dvalid = xgb.DMatrix(validate[features].values, validate[target].values, feature_names=validate[features].columns.values)\n",
    "\n",
    "    # Stworzenie listy zbiorów do ealuacji\n",
    "    evals = [(dtrain, 'train'), (dvalid, 'valid')]\n",
    "    \n",
    "    # Stworzenie zmiennej słownikowej do przekazania\n",
    "    train_history = dict()\n",
    "\n",
    "    # Uruchomienie algorytmu trenującego\n",
    "    gbm = xgb.train(params, dtrain, \n",
    "                    num_boost_round, early_stopping_rounds=early_stopping_rounds,\n",
    "                    evals=evals, evals_result=train_history, verbose_eval=debug)\n",
    "    \n",
    "    # Obliczenai statystyk i dodatkowych wartości\n",
    "    score = gbm.best_score\n",
    "\n",
    "    # Przekształcenie historii trenowania do Pandas Data Frame\n",
    "    trainHistory = dict()\n",
    "    for key in train_history.keys():\n",
    "        for metric in train_history[key].keys():\n",
    "            trainHistory[key+metric.upper()]=train_history[key][metric]\n",
    "    train_history = pd.DataFrame(trainHistory)\n",
    "\n",
    "    # Zapis przewidywanych wartości dla zbioru walidacyjnego dla najlepszej (z punktu widzenia walidacji) iteracji\n",
    "    trainPred = gbm.predict(dtrain, ntree_limit=gbm.best_iteration)\n",
    "    testPred = gbm.predict(dvalid, ntree_limit=gbm.best_iteration)\n",
    "\n",
    "    # Przygotowanie posortowanej listy dla wazności zmiennych, zamaist słownika\n",
    "    imp = gbm.get_fscore()\n",
    "    imp = sorted(imp.items(), key=itemgetter(1), reverse=True)\n",
    "\n",
    "    impFig=None\n",
    "    if(debug):\n",
    "        print('Czas trenowania: {} minut'.format(round((time.time() - start_time)/60, 2)))\n",
    "        # Skorzystanie z wbudowanej funkcji wizualizującej waznośc zmiennych\n",
    "        impFig, ax = plt.subplots()\n",
    "        xgb.plot_importance(gbm, ax=ax)\n",
    "    return score, trainPred, testPred, train_history, impFig, imp\n",
    "\n",
    "def plotROCs(results):\n",
    "    ''' Funkcja, do rysowania szeregu wyników krzywych ROC dla poszczególnych eksperymentów\n",
    "    results - lista wyników jako 3 elementowe tuple (true, pred, label)\n",
    "    '''\n",
    "\n",
    "    # Ustalanie wielkości rysunku\n",
    "    fig, ax = plt.subplots(figsize=(10,9))\n",
    "\n",
    "    for true, pred, label in results:\n",
    "        # Obliczenie punktów potrzebnych do narysowani akrzywej ROC\n",
    "        # funkcja roc_curve zwarca trzy serie danych, fpr, tpr oraz poziomy progów odcięcia\n",
    "        fpr, tpr, thresholds = roc_curve(true, pred)\n",
    "        # Obliczamy pole powierzchni pod krzywą\n",
    "        rocScore = roc_auc_score(true, pred)\n",
    "        rocScore = round(rocScore, 3)\n",
    "\n",
    "        # Grubość krzywej\n",
    "        lw = 2\n",
    "\n",
    "        # Rysujemy krzywą ROC\n",
    "        ax.plot(fpr, tpr, lw=lw, label=f'{label}: {rocScore}')\n",
    "    # Rysujemy krzywą 45 stopni jako punkt odniesienia\n",
    "    ax.plot([0, 1], [0, 1], color='navy', lw=lw, linestyle='--')\n",
    "    # Dodajemy lekkie marginesy do zakresu aby krzywa nie pokrywała się z osiami\n",
    "    ax.set_xlim([-0.01, 1.0])\n",
    "    ax.set_ylim([0.0, 1.01])\n",
    "    ax.set_xlabel('False Positive Rate')\n",
    "    ax.set_ylabel('True Positive Rate')\n",
    "    ax.set_title(f'Receiver operating characteristic - {rocScore}')\n",
    "    ax.legend(loc=\"lower right\")\n",
    "    plt.show()\n",
    "\n",
    "def CVTestXGB(nFolds = 5, randomState=2020, features=features, debug=False, *args, **kwargs):\n",
    "    \n",
    "    # Przygotujmy walidację krzyżową\n",
    "    kf = KFold(n_splits=nFolds, shuffle=True, random_state=randomState)\n",
    "\n",
    "    # Zapisanie wyników ze zbioru treningowego i testowego\n",
    "    testResults = []\n",
    "    trainResults = []\n",
    "    \n",
    "    # Przechowajmy również predykcje dla poszczególnych foldów\n",
    "    predictions = []\n",
    "    \n",
    "    # Razem z informacją o tym, jaki był ich indeks w oryginalnym zbiorze danych\n",
    "    indices = []\n",
    "    \n",
    "    # Przygotujmy listę historii\n",
    "    hists = []\n",
    "    fold = 1\n",
    "    for train, test in kf.split(df.index.values):\n",
    "        # Przygotowanie estymatora\n",
    "        score, trainPred, testPred, train_history, impFig, imp = run_xgb(df.iloc[train], df.iloc[test],\n",
    "                                                                         features, target, debug=debug, *args, **kwargs)\n",
    "\n",
    "        # Zachowajmy informacje o predykcjach dla tego foldu\n",
    "        predictions.append(testPred.tolist().copy())\n",
    "        \n",
    "        # Razem z indeksami w oryginalnym data frame\n",
    "        indices.append(df.iloc[test].index.tolist().copy())\n",
    "        \n",
    "        # Informowanie o każdym foldzie razem z wynikami treningowymi możemy opcjonalnie wyświetlać w trakcie\n",
    "        trainScore = roc_auc_score(df[target].iloc[train], trainPred)\n",
    "        testScore = roc_auc_score(df[target].iloc[test], testPred)\n",
    "        \n",
    "        trainResults.append(trainScore)\n",
    "        testResults.append(testScore)\n",
    "        \n",
    "        hists.append(train_history.add_suffix('_'+str(fold)))\n",
    "        fold+=1\n",
    "        \n",
    "        if debug:\n",
    "            print(\"Train AUC:\", trainScore,\n",
    "                  \"Valid AUC:\", testScore)\n",
    "        \n",
    "    return trainResults, testResults, predictions, indices, pd.concat(hists, axis=1)\n",
    "\n",
    "def CVTestRFClass(nFolds = 5, randomState=2020, debug=False, features=features, *args, **kwargs):\n",
    "    kf = KFold(n_splits=nFolds, shuffle=True, random_state=randomState)\n",
    "    # listy do przechowywania wyników:\n",
    "    testResults = []\n",
    "    trainResults = []\n",
    "    predictions = []\n",
    "    indices = []\n",
    "\n",
    "    # Pętla walidująca model na kolejnych foldach\n",
    "    for train, test in kf.split(df.index.values):\n",
    "        # Przygotowanie estymatora\n",
    "        clf = RandomForestClassifier(*args, **kwargs, random_state=randomState, n_jobs=-1)\n",
    "        if debug:\n",
    "            print(clf)\n",
    "        # Trenowanie modelu\n",
    "        clf.fit(df.iloc[train][features], df.iloc[train][target])\n",
    "\n",
    "        # Przygotowanie prognoz dla zbioru treningowego i testowego\n",
    "        # UWAGA Sklearn zwracał będzie dwie kolumny prawdopodobieństw dla obydwu klas\n",
    "        predsTrain = clf.predict_proba(df.iloc[train][features])[:,1]\n",
    "        preds = clf.predict_proba(df.iloc[test][features])[:,1]\n",
    "        \n",
    "        # Zachowajmy informacje o predykcjach dla tego foldu\n",
    "        predictions.append(preds.tolist().copy())\n",
    "        \n",
    "        # Razem z indeksami w oryginalnym data frame\n",
    "        indices.append(df.iloc[test].index.tolist().copy())\n",
    "        \n",
    "        # Policzenie dopasowania za pomocą metryki ROC-AUC\n",
    "        trainScore = roc_auc_score((df[target].iloc[train]==1), predsTrain)\n",
    "        testScore = roc_auc_score((df[target].iloc[test]==1), preds)\n",
    "        \n",
    "        # Zapisanie wyników do listy \n",
    "        trainResults.append(trainScore)\n",
    "        testResults.append(testScore)\n",
    "        \n",
    "        # Informowanie o każdym foldzie razem z wynikami treningowymi możemy opcjonalnie wyświetlać w trakcie\n",
    "        if debug:\n",
    "            print(\"Train AUC:\", trainScore,\n",
    "                  \"Valid AUC:\", testScore)\n",
    "        \n",
    "    return trainResults, testResults, predictions, indices\n",
    "\n",
    "def CVTestNBGaussian(nFolds = 5, randomState=2020, debug=False, *args, **kwargs):\n",
    "    kf = KFold(n_splits=nFolds, shuffle=True, random_state=randomState)\n",
    "\n",
    "    # Lista z wynikami\n",
    "    testResults = []\n",
    "    trainResults = []\n",
    "    predictions = []\n",
    "    indices = []\n",
    "    \n",
    "    # Pętla walidująca model na kolejnych foldach\n",
    "    for train, test in kf.split(df.index.values):\n",
    "        # Przygotowanie estymatora\n",
    "        clf = GaussianNB(*args, **kwargs)\n",
    "        if debug:\n",
    "            print(clf)\n",
    "        # Trenowanie modelu\n",
    "        clf.fit(df.iloc[train][features], df.iloc[train][target])\n",
    "\n",
    "        # Przygotowanie prognoz dla zbioru treningowego i testowego\n",
    "        # UWAGA Sklearn zwracał będzie dwie kolumny prawdopodobieństw dla obydwu klas\n",
    "        predsTrain = clf.predict_proba(df.iloc[train][features])[:,1]\n",
    "        preds = clf.predict_proba(df.iloc[test][features])[:,1]\n",
    "        \n",
    "        # Zachowajmy informacje o predykcjach dla tego foldu\n",
    "        predictions.append(preds.tolist().copy())\n",
    "        \n",
    "        # Razem z indeksami w oryginalnym data frame\n",
    "        indices.append(df.iloc[test].index.tolist().copy())\n",
    "        \n",
    "        # Policzenie ROC-AUC dla foldów\n",
    "        trainScore = roc_auc_score((df[target].iloc[train]==1), predsTrain)\n",
    "        testScore = roc_auc_score((df[target].iloc[test]==1), preds)\n",
    "        \n",
    "        # Zapisanie wyników dla foldów\n",
    "        trainResults.append(trainScore)\n",
    "        testResults.append(testScore)\n",
    "        \n",
    "        # Informowanie o każdym foldzie razem z wynikami treningowymi możemy opcjonalnie wyświetlać w trakcie\n",
    "        if debug:\n",
    "            print(\"Train AUC:\", trainScore,\n",
    "                  \"Valid AUC:\", testScore)\n",
    "        \n",
    "    return trainResults, testResults, predictions, indices\n",
    "\n",
    "def CVTestKNN(features=featuresn, nFolds = 5, randomState=2020, debug=False, *args, **kwargs):\n",
    "    kf = KFold(n_splits=nFolds, shuffle=True, random_state=randomState)\n",
    "\n",
    "    # Listy z wynikami\n",
    "    testResults = []\n",
    "    trainResults = []\n",
    "    predictions = []\n",
    "    indices = []\n",
    "    \n",
    "    # Pętla walidująca model na kolejnych foldach\n",
    "    for train, test in kf.split(dfn1.index.values):\n",
    "        # Przygotowanie estymatora\n",
    "        clf = neighbors.KNeighborsClassifier(*args, **kwargs)\n",
    "        if debug:\n",
    "            print(clf)\n",
    "        # Trenowanie modelu\n",
    "        clf.fit(dfn1.iloc[train][features], dfn1.iloc[train][target])\n",
    "\n",
    "        # Przygotowanie prognoz dla zbioru treningowego i testowego\n",
    "        # UWAGA Sklearn zwracał będzie dwie kolumny prawdopodobieństw dla obydwu klas\n",
    "        predsTrain = clf.predict_proba(dfn1.iloc[train][features])[:,1]\n",
    "        preds = clf.predict_proba(dfn1.iloc[test][features])[:,1]\n",
    "        \n",
    "        # Zachowajmy informacje o predykcjach dla tego foldu\n",
    "        predictions.append(preds.tolist().copy())\n",
    "        \n",
    "        # Razem z indeksami w oryginalnym data frame\n",
    "        indices.append(dfn1.iloc[test].index.tolist().copy())\n",
    "        \n",
    "        # Policzenie ROC-AUC dla foldów\n",
    "        trainScore = roc_auc_score((dfn1[target].iloc[train]==1), predsTrain)\n",
    "        testScore = roc_auc_score((dfn1[target].iloc[test]==1), preds)\n",
    "        \n",
    "        # Zapisanie wyników dla foldów\n",
    "        trainResults.append(trainScore)\n",
    "        testResults.append(testScore)\n",
    "        \n",
    "        # Informowanie o każdym foldzie razem z wynikami treningowymi możemy opcjonalnie wyświetlać w trakcie\n",
    "        if debug:\n",
    "            print(\"Train AUC:\", trainScore,\n",
    "                  \"Valid AUC:\", testScore)\n",
    "        \n",
    "    return trainResults, testResults, predictions, indices"
   ]
  },
  {
   "cell_type": "code",
   "execution_count": 33,
   "id": "dab9aa17",
   "metadata": {},
   "outputs": [
    {
     "name": "stdout",
     "output_type": "stream",
     "text": [
      "0.9906375958030411\n"
     ]
    }
   ],
   "source": [
    "dfn1 = dfn.copy()\n",
    "dfn1[\"SubmitInfoToEmail\"]=dfn1[\"SubmitInfoToEmail\"]*4\n",
    "dfn1[\"InsecureForms\"]=dfn1[\"InsecureForms\"]*2\n",
    "dfn1[\"ImagesOnlyInForm\"]=dfn1[\"ImagesOnlyInForm\"]*4\n",
    "dfn1[\"ExtMetaScriptLinkRT\"]=dfn1[\"ExtMetaScriptLinkRT\"]*0.8\n",
    "trainResults, testResults, predictions, indices = CVTestKNN(features=features,n_neighbors=14, n_jobs=-1, p=1)\n",
    "print(np.mean(testResults))\n",
    "\n",
    "modelkNN = {\n",
    "    \"name\":\"KNN\",\n",
    "    \"description\":\"Pierwszy dopracowany model KNN, 14 sąsiadów z wszystkimi zmiennymi\",\n",
    "    \"specification\":'n_neighbors=30, n_jobs=-1, p=1, features=features',\n",
    "    \"trainResults\":trainResults.copy(),\n",
    "    \"testResults\":testResults.copy(),\n",
    "    \"predictions\":predictions.copy(),\n",
    "    \"indices\":indices.copy(),\n",
    "}"
   ]
  },
  {
   "cell_type": "code",
   "execution_count": 34,
   "id": "600e4408",
   "metadata": {},
   "outputs": [
    {
     "name": "stdout",
     "output_type": "stream",
     "text": [
      "0.9855539816948031 0.9838801178113986\n"
     ]
    }
   ],
   "source": [
    "trainResults, testResults, predictions, indices = CVTest(nFolds = 5, randomState=2020)\n",
    "print(np.mean(trainResults), np.mean(testResults))\n",
    "modelLogit = {\n",
    "    \"name\":\"Logit\",\n",
    "    \"description\":\"Model Logit \",\n",
    "    \"specification\":'nFolds= 5 randomState = 2020',\n",
    "    \"trainResults\":trainResults.copy(),\n",
    "    \"testResults\":testResults.copy(),\n",
    "    \"predictions\":predictions.copy(),\n",
    "    \"indices\":indices.copy(),\n",
    "}"
   ]
  },
  {
   "cell_type": "code",
   "execution_count": 35,
   "id": "eedf7464",
   "metadata": {},
   "outputs": [
    {
     "name": "stdout",
     "output_type": "stream",
     "text": [
      "GaussianNB()\n",
      "Train AUC: 0.9461602226105008 Valid AUC: 0.9465980775307911\n",
      "GaussianNB()\n",
      "Train AUC: 0.9462892080764995 Valid AUC: 0.9419381700009707\n",
      "GaussianNB()\n",
      "Train AUC: 0.9442639053360207 Valid AUC: 0.9526926681061166\n",
      "GaussianNB()\n",
      "Train AUC: 0.9474976015135295 Valid AUC: 0.9377637986403387\n",
      "GaussianNB()\n",
      "Train AUC: 0.9458037278183247 Valid AUC: 0.9464331608290208\n",
      "0.9450851750214475\n"
     ]
    }
   ],
   "source": [
    "trainResults, testResults, predictions, indices = CVTestNBGaussian(debug=True)\n",
    "print(np.mean(testResults))\n",
    "modelNB = {\n",
    "    \"name\":\"NB\",\n",
    "    \"description\":\"Prosty model Naive Bayes\",\n",
    "    \"specification\":'',\n",
    "    \"trainResults\":trainResults.copy(),\n",
    "    \"testResults\":testResults.copy(),\n",
    "    \"predictions\":predictions.copy(),\n",
    "    \"indices\":indices.copy(),\n",
    "}"
   ]
  },
  {
   "cell_type": "code",
   "execution_count": 42,
   "id": "4997dd46",
   "metadata": {},
   "outputs": [
    {
     "name": "stdout",
     "output_type": "stream",
     "text": [
      "0.9999929873494553 0.9981700601888482\n"
     ]
    }
   ],
   "source": [
    "trainResults, testResults, predictions, indices = CVTestRFClass(n_estimators=50, max_depth=20,\n",
    "                                                                    max_features=4,\n",
    "                                                                    min_samples_split=4, min_samples_leaf=1)\n",
    "print(np.mean(trainResults), np.mean(testResults))\n",
    "\n",
    "modelRF = {\n",
    "    \"name\":\"RF\",\n",
    "    \"description\":\"Model RF, ze zmiennymi kategorycznymi z LE\",\n",
    "    \"specification\":'n_estimators=50, max_depth=20, max_features=4, min_samples_split=4, min_samples_leaf=1',\n",
    "    \"trainResults\":trainResults.copy(),\n",
    "    \"testResults\":testResults.copy(),\n",
    "    \"predictions\":predictions.copy(),\n",
    "    \"indices\":indices.copy(),\n",
    "}"
   ]
  },
  {
   "cell_type": "code",
   "execution_count": 37,
   "id": "42c47dfe",
   "metadata": {},
   "outputs": [
    {
     "name": "stdout",
     "output_type": "stream",
     "text": [
      "[18:48:36] WARNING: C:\\buildkite-agent\\builds\\buildkite-windows-cpu-autoscaling-group-i-07593ffd91cd9da33-1\\xgboost\\xgboost-ci-windows\\src\\learner.cc:767: \n",
      "Parameters: { \"early_stopping_rounds\", \"lambdaX\", \"num_boost_round\", \"rate_drop\", \"silent\", \"skip_drop\" } are not used.\n",
      "\n"
     ]
    },
    {
     "name": "stderr",
     "output_type": "stream",
     "text": [
      "C:\\Users\\jsmig\\anaconda3\\lib\\site-packages\\xgboost\\core.py:122: UserWarning: ntree_limit is deprecated, use `iteration_range` or model slicing instead.\n",
      "  warnings.warn(\n"
     ]
    },
    {
     "name": "stdout",
     "output_type": "stream",
     "text": [
      "[18:48:41] WARNING: C:\\buildkite-agent\\builds\\buildkite-windows-cpu-autoscaling-group-i-07593ffd91cd9da33-1\\xgboost\\xgboost-ci-windows\\src\\learner.cc:767: \n",
      "Parameters: { \"early_stopping_rounds\", \"lambdaX\", \"num_boost_round\", \"rate_drop\", \"silent\", \"skip_drop\" } are not used.\n",
      "\n"
     ]
    },
    {
     "name": "stderr",
     "output_type": "stream",
     "text": [
      "C:\\Users\\jsmig\\anaconda3\\lib\\site-packages\\xgboost\\core.py:122: UserWarning: ntree_limit is deprecated, use `iteration_range` or model slicing instead.\n",
      "  warnings.warn(\n"
     ]
    },
    {
     "name": "stdout",
     "output_type": "stream",
     "text": [
      "[18:48:45] WARNING: C:\\buildkite-agent\\builds\\buildkite-windows-cpu-autoscaling-group-i-07593ffd91cd9da33-1\\xgboost\\xgboost-ci-windows\\src\\learner.cc:767: \n",
      "Parameters: { \"early_stopping_rounds\", \"lambdaX\", \"num_boost_round\", \"rate_drop\", \"silent\", \"skip_drop\" } are not used.\n",
      "\n"
     ]
    },
    {
     "name": "stderr",
     "output_type": "stream",
     "text": [
      "C:\\Users\\jsmig\\anaconda3\\lib\\site-packages\\xgboost\\core.py:122: UserWarning: ntree_limit is deprecated, use `iteration_range` or model slicing instead.\n",
      "  warnings.warn(\n"
     ]
    },
    {
     "name": "stdout",
     "output_type": "stream",
     "text": [
      "[18:48:47] WARNING: C:\\buildkite-agent\\builds\\buildkite-windows-cpu-autoscaling-group-i-07593ffd91cd9da33-1\\xgboost\\xgboost-ci-windows\\src\\learner.cc:767: \n",
      "Parameters: { \"early_stopping_rounds\", \"lambdaX\", \"num_boost_round\", \"rate_drop\", \"silent\", \"skip_drop\" } are not used.\n",
      "\n"
     ]
    },
    {
     "name": "stderr",
     "output_type": "stream",
     "text": [
      "C:\\Users\\jsmig\\anaconda3\\lib\\site-packages\\xgboost\\core.py:122: UserWarning: ntree_limit is deprecated, use `iteration_range` or model slicing instead.\n",
      "  warnings.warn(\n"
     ]
    },
    {
     "name": "stdout",
     "output_type": "stream",
     "text": [
      "[18:48:53] WARNING: C:\\buildkite-agent\\builds\\buildkite-windows-cpu-autoscaling-group-i-07593ffd91cd9da33-1\\xgboost\\xgboost-ci-windows\\src\\learner.cc:767: \n",
      "Parameters: { \"early_stopping_rounds\", \"lambdaX\", \"num_boost_round\", \"rate_drop\", \"silent\", \"skip_drop\" } are not used.\n",
      "\n",
      "0.9990033091305189\n"
     ]
    },
    {
     "name": "stderr",
     "output_type": "stream",
     "text": [
      "C:\\Users\\jsmig\\anaconda3\\lib\\site-packages\\xgboost\\core.py:122: UserWarning: ntree_limit is deprecated, use `iteration_range` or model slicing instead.\n",
      "  warnings.warn(\n"
     ]
    }
   ],
   "source": [
    "trainResults, testResults, predictions, indices, hists = CVTestXGB(\n",
    "        max_depth=9, subsample = 0.4, colsample_bytree = 0.9, lambdaX=1, gamma=0.01)\n",
    "print(np.mean(testResults))\n",
    "\n",
    "modelXGB = {\n",
    "    \"name\":\"XGB\",\n",
    "    \"description\":\"Model XGB, ze zmiennymi kategorycznymi z LE\",\n",
    "    \"specification\":'max_depth=9, subsample = 0.4, colsample_bytree = 0.9, lambdaX=1, gamma=0.01',\n",
    "    \"trainResults\":trainResults.copy(),\n",
    "    \"testResults\":testResults.copy(),\n",
    "    \"predictions\":predictions.copy(),\n",
    "    \"indices\":indices.copy(),\n",
    "}"
   ]
  },
  {
   "cell_type": "code",
   "execution_count": 38,
   "id": "18f1ea45",
   "metadata": {},
   "outputs": [
    {
     "name": "stdout",
     "output_type": "stream",
     "text": [
      "0.9947590670601189\n"
     ]
    }
   ],
   "source": [
    "trainResults, testResults, predictions, indices = CVTestSVM(debug=False, kernel=\"rbf\", C=25)\n",
    "print(np.mean(testResults))\n",
    "modelSVM = {\n",
    "        \"name\":f\"SVM RBF = 25\",\n",
    "        \"description\":\"Testy z C i kernelem RBF\",\n",
    "        \"specification\":'kernel=\"rbf\" C=25,',\n",
    "        \"trainResults\":trainResults.copy(),\n",
    "        \"testResults\":testResults.copy(),\n",
    "        \"predictions\":predictions.copy(),\n",
    "        \"indices\":indices.copy(),\n",
    "}"
   ]
  },
  {
   "cell_type": "code",
   "execution_count": 39,
   "id": "ecd7384b",
   "metadata": {},
   "outputs": [
    {
     "data": {
      "image/png": "[encoded data removed]",
      "text/plain": [
       "<Figure size 1000x900 with 1 Axes>"
      ]
     },
     "metadata": {},
     "output_type": "display_data"
    }
   ],
   "source": [
    "res2plot = []\n",
    "true = (df[target]==1).sort_index()\n",
    "for result in [modelXGB, modelRF, modelkNN, modelLogit, modelSVM, modelNB]:\n",
    "    # Tworzymy wektor predykcji tworząc serię pandasa, a następnie sortujemy indeks\n",
    "    pred = pd.Series(sum(result[\"predictions\"], []), index=sum(result[\"indices\"], [])).sort_index()\n",
    "    res2plot.append((true, pred, result[\"name\"]))\n",
    "    \n",
    "# Wywołujemy funkcję do rysowania\n",
    "plotROCs(res2plot)"
   ]
  },
  {
   "cell_type": "code",
   "execution_count": null,
   "id": "82d9425d",
   "metadata": {},
   "outputs": [],
   "source": []
  }
 ],
 "metadata": {
  "kernelspec": {
   "display_name": "Python 3 (ipykernel)",
   "language": "python",
   "name": "python3"
  },
  "language_info": {
   "codemirror_mode": {
    "name": "ipython",
    "version": 3
   },
   "file_extension": ".py",
   "mimetype": "text/x-python",
   "name": "python",
   "nbconvert_exporter": "python",
   "pygments_lexer": "ipython3",
   "version": "3.10.9"
  }
 },
 "nbformat": 4,
 "nbformat_minor": 5
}
